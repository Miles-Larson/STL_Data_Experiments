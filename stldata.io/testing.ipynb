{
 "cells": [
  {
   "cell_type": "code",
   "execution_count": 4,
   "source": [
    "import sys\r\n",
    "\r\n",
    "sys.getprofile\r\n",
    "\r\n",
    "\r\n",
    "#How are x and y connected\r\n",
    "#How did x cause y?\r\n",
    "#How did X <A> Y?\r\n",
    "#Generic Relation?\r\n",
    "# answered with Features shared between the two, what data they are joined by\r\n",
    "#\r\n",
    "#\r\n",
    "#\r\n",
    "#\r\n",
    "#\r\n",
    "#\r\n",
    "#\r\n",
    "question_types = ['How'  ,\r\n",
    "\r\n",
    "    'Why',\r\n",
    "    'When',\r\n",
    "    'Where',\r\n",
    "    'What']\r\n",
    "\r\n",
    "class question():\r\n",
    "   types:['How'  ,\r\n",
    "    'Why',\r\n",
    "    'When',\r\n",
    "    'Where',\r\n",
    "    'What']\r\n",
    "def why(question:question):\r\n",
    "    question"
   ],
   "outputs": [],
   "metadata": {}
  }
 ],
 "metadata": {
  "orig_nbformat": 4,
  "language_info": {
   "name": "python",
   "version": "3.9.6",
   "mimetype": "text/x-python",
   "codemirror_mode": {
    "name": "ipython",
    "version": 3
   },
   "pygments_lexer": "ipython3",
   "nbconvert_exporter": "python",
   "file_extension": ".py"
  },
  "kernelspec": {
   "name": "python3",
   "display_name": "Python 3.9.6 64-bit"
  },
  "interpreter": {
   "hash": "cfbdeadd13c8b601e6a5335fb528f04ba47a92b6b17bb9cc1e33e711f4fb3e10"
  }
 },
 "nbformat": 4,
 "nbformat_minor": 2
}