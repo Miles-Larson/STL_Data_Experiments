{
    "cells": [
        {
            "cell_type": "code",
            "execution_count": 1,
            "source": [
                "#St Louis Power Outage: Where political power is concentrated and where the lights are off.\r\n",
                "# Purpose of the dataset is to understand the political concentration of St \r\n",
                "#  by looking at the behavior of and laws passed by the Board of Alderman. \r\n",
                "\r\n",
                "import pandas as pd\r\n",
                "import numpy as np\r\n",
                "\r\n",
                "#Function edits the dataframe in place\r\n",
                "def clean_bb_data(df:pd.DataFrame):\r\n",
                "    df['President Proposal'] = boardbill_df['Ward'] == 'President'\r\n",
                "    df['Passed'] = boardbill_df['Ordinance'] != 0\r\n",
                "    #Remove digits from BB data\r\n",
                "    temp = df['Board Bill'].str.replace(pat=r'\\D', repl='', regex=True)\r\n",
                "    temp = pd.to_numeric(temp)\r\n",
                "    df['Board Bill'].update(temp)\r\n",
                "    #Remove digits from Ward\r\n",
                "    temp = df['Ward'].str.replace(pat=r'\\D', repl='', regex=True).astype(str)\r\n",
                "    \r\n",
                "    df.update(temp)\r\n",
                "    return None\r\n",
                "\r\n",
                "\r\n",
                "raw_boardbill_df = pd.read_csv(\r\n",
                "    r'C:\\Users\\\\legis\\Documents\\BoardBill.csv', encoding='iso-8859-1')\r\n",
                "\r\n",
                "boardbill_df = raw_boardbill_df.copy()\r\n",
                "\r\n",
                "\r\n",
                "clean_bb_data(boardbill_df)\r\n",
                "\r\n",
                "\r\n",
                "\r\n",
                "\r\n",
                "\r\n",
                "boardbill_df.update(boardbill_df.sort_values(['Session', 'Ward','Board Bill'], ascending=[True, True, True]))\r\n",
                "print(boardbill_df)\r\n"
            ],
            "outputs": [
                {
                    "output_type": "stream",
                    "name": "stdout",
                    "text": [
                        "        Session Board Bill                                              Title  \\\n",
                        "0     2015-2016          1                                    Budget FY 15-16   \n",
                        "1     2015-2016         10        Redevelopment plan for 4245 West Pine Blvd.   \n",
                        "2     2015-2016        100                             Transit Sales Tax 1997   \n",
                        "3     2015-2016        101                           Transportation Sales Tax   \n",
                        "4     2015-2016        102  Vacation of alley at Martin Luther King, Whitt...   \n",
                        "...         ...        ...                                                ...   \n",
                        "1679  2021-2022         82                   American Rescue Plan Act of 2021   \n",
                        "1680  2021-2022         83       Honorary Naming of Captain David Dorn Avenue   \n",
                        "1681  2021-2022         84  Adult Vaccination Supplemental Program Service...   \n",
                        "1682  2021-2022         85            Fourteenth Ward Liquor Control District   \n",
                        "1683  2021-2022          9  Airport Debt Service Stabilization Fund to the...   \n",
                        "\n",
                        "                 Alderman  Ordinance Ward  President Proposal  Passed  \n",
                        "0            Lewis E Reed      69985                     True    True  \n",
                        "1          Joseph D Roddy      70001   17               False    True  \n",
                        "2          Stephen Conway      70049   08               False    True  \n",
                        "3          Stephen Conway      70050   08               False    True  \n",
                        "4          Samuel L Moore      70072   04               False    True  \n",
                        "...                   ...        ...  ...                 ...     ...  \n",
                        "1679         Lewis E Reed          0                     True   False  \n",
                        "1680     Dwinderlin Evans          0   04               False   False  \n",
                        "1681  Christine Ingrassia          0   06               False   False  \n",
                        "1682         Carol Howard          0   14               False   False  \n",
                        "1683           Shane Cohn      71348   25               False    True  \n",
                        "\n",
                        "[1684 rows x 8 columns]\n"
                    ]
                }
            ],
            "metadata": {}
        },
        {
            "cell_type": "code",
            "execution_count": 2,
            "source": [
                "## ============= Outline ============== \r\n",
                "## Feature 1: Data Analyses\r\n",
                "#####################################\r\n",
                "## Story:   A citizen is curious how productive their representative is compared to others.\r\n",
                "##              They want a politician that is bringing relevant funds to their community and representing the group identity in both symbolic and tangible ways.\r\n",
                "##              How do they know if their locally elected alderman is effective at representing their interests?\r\n",
                "## Stats at a Glance:\r\n",
                "##      Basic regional comparative stuff:\r\n",
                "##         \r\n",
                "##      Conceptions of Legislative Effectiveness:\r\n",
                "##          ## Characteristic:\r\n",
                "##              X is a characteristic of Y. This can be considered metadata for the set. What is the relationship between the primary key and the column in question?\r\n",
                "##          ## Dimensional\r\n",
                "##                      1D\r\n",
                "##                      -- Number of Bills (PK) [Bills] => [Count] \r\n",
                "##                      2D\r\n",
                "##                      -- Number of Bills Passed [Status, Bills] => [Status, Count] =Filter[Status = Passed]> [Count]\r\n",
                "##                      3D\r\n",
                "##                      -- Number of bills passed per alderman [Alderman, Status, Bills] => [Alderman, Status, Count] => [Alderman, Count]\r\n",
                "##                      -- Number of bills passed per ward [ward, Status, Bills] => [ward, Status, Count] =Filter[Status = Passed]> [ward, Count]\r\n",
                "##                      4D\r\n",
                "##                      -- Number of bills passed per alderman per year [Year, Alderman, Status, Bills] => [Year, Alderman, Count]\r\n",
                "##          ## Relationship:\r\n",
                "##                  --   Difference, Distance, Time, Weight, Volume, \r\n",
                "##                  --   Two Cards: Alder A vs Alder B or Alder A vs Median B\r\n",
                "##                  --   Two Cards: ward A vs ward B or ward A vs Median B\r\n",
                "##          ## Calculated:\r\n",
                "##              -- Proposed to Passed Ratio = fn(Proposed / Passed)\r\n",
                "##          ##  Ordinal:\r\n",
                "##              \r\n",
                "##              -- Top n in y Population\r\n",
                "##              -- Bottom n in y population\r\n",
                "##\r\n",
                "\r\n",
                "## Group Functions Count, Max, Min\r\n",
                "\r\n",
                "\r\n",
                "## Influential \r\n",
                "## Influential Naysayer\r\n",
                "## Influence by local racial makeup\r\n",
                "\r\n",
                "##################################################\r\n",
                "#\r\n",
                "##################################################              \r\n",
                "##              Do you believe that ## summary of bill## should have passed? blind test\r\n",
                "##              ## You were represented well.\r\n",
                "##              -- You favored x and they voted for x.\r\n",
                "##              -- You were against x and they voted against x.\r\n",
                "##              -- You cared about the issue that \r\n",
                "##              ## You were not represented well, according to your survey. \r\n",
                "##              -- You favored x but y voted against it.\r\n",
                "##              -- You were against x but y voted for it.\r\n",
                "##              -- You were apathetic about this issue but your representative proposed the board bill\r\n",
                "##                  ** It is okay to disagree with this assessment, but please let us know why here [hyperlink to survey]\r\n",
                "##          \r\n",
                "## A. Which wards have had the most ordinances come from it?\r\n",
                "##      Each row represents one proposed ordinance \r\n",
                "##     Requirements:\r\n",
                "##          Wards, the quantity of bills passed, the quantity of bills proposed, the quantity of bills\r\n",
                "##          Wards, the quantity of bills proposed, the ratio of proposed to passed bills\r\n",
                "##          Proposed to Passed Ratio with an explanation of what it means immmediately following\r\n",
                "## A1.\r\n",
                "## B. \r\n",
                "##          Which ward are you in? \r\n",
                "## c\r\n",
                "## Feature 2: Illustrations\r\n",
                "\r\n",
                "## Visualization ideas - ward map over time\r\n",
                "\r\n",
                "## Feature 3: Communication Strategy\r\n",
                "## Feature 4: Alder Labeling\r\n",
                "\r\n",
                "##Column Notes\r\n",
                "#Session is represented as XXXX-YYYY\r\n",
                "#Board Bill Should be Converted to an integer instead of a "
            ],
            "outputs": [],
            "metadata": {}
        },
        {
            "cell_type": "code",
            "execution_count": 3,
            "source": [
                "## Back to Basics\r\n",
                "#-- Number of Bills (PK) [Bills] => [Count] \r\n",
                "class data_analysis():\r\n",
                "    def __init__(self,df:pd.DataFrame):\r\n",
                "        self.df = df.copy()\r\n",
                "        self.number_of_bills = len(df)\r\n",
                "        self.number_of_bills_passed = len(df['Passed']==True)\r\n",
                "        self.number_of_bills_not_passed = len(df['Passed']==False)\r\n",
                "\r\n",
                "        self.bills_passed_df = df.get(df['Passed']==True)\r\n",
                "        self._groupby_example = df[['Passed', 'Board Bill']].groupby(['Passed']).count().copy().at[False,'Board Bill']\r\n",
                "        \r\n",
                "        self.bills_per_ward_df = boardbill_df[['Session','Ward','Passed','Board Bill']].groupby(['Passed','Ward','Session'],0).count().reset_index().copy()\r\n",
                "        self.bills_per_alderman_df = boardbill_df[['Session','Alderman','Passed','Board Bill']].groupby(['Passed','Alderman','Session'],0).count().reset_index().copy()\r\n",
                "        self._2015_bb_passed = self.bills_per_ward_df.query('Passed == True & Session == \"2015-2016\"').reset_index().get(['Ward','Board Bill']).copy()\r\n",
                "        self._2016_bb_passed = self.bills_per_ward_df.query('Passed == True & Session == \"2016-2017\"').reset_index().get(['Ward','Board Bill']).copy()\r\n",
                "        self._2017_bb_passed = self.bills_per_ward_df.query('Passed == True & Session == \"2017-2018\"').reset_index().get(['Ward','Board Bill']).copy()\r\n",
                "        self._2018_bb_passed = self.bills_per_ward_df.query('Passed == True & Session == \"2018-2019\"').reset_index().get(['Ward','Board Bill']).copy()\r\n",
                "        self._2019_bb_passed = self.bills_per_ward_df.query('Passed == True & Session == \"2019-2020\"').reset_index().get(['Ward','Board Bill']).copy()\r\n",
                "        self._2020_bb_passed = self.bills_per_ward_df.query('Passed == True & Session == \"2020-2021\"').reset_index().get(['Ward','Board Bill']).copy()\r\n",
                "        self._2021_bb_passed = self.bills_per_ward_df.query('Passed == True & Session == \"2021-2022\"').reset_index().get(['Ward','Board Bill']).copy()\r\n",
                "        #self._2015_bb_passed_chart = self._2015_bb_passed.plot(x='Ward', y='Board Bill',kind='Bar')\r\n",
                "        \r\n",
                "        print('Data Analysis Complete')\r\n",
                "bb_data_analysis = data_analysis(boardbill_df)"
            ],
            "outputs": [
                {
                    "output_type": "stream",
                    "name": "stdout",
                    "text": [
                        "Data Analysis Complete\n"
                    ]
                }
            ],
            "metadata": {}
        },
        {
            "cell_type": "code",
            "execution_count": 5,
            "source": [
                "filepath = r'C:\\Users\\legis\\Documents\\nbrhds_wards\\WARDS_2010'\r\n",
                "import shapefile\r\n",
                "from shapely.geometry import mapping, shape\r\n",
                "\r\n",
                "stl_shapefile = shapefile.Reader(filepath)\r\n",
                "shapely_map = mapping(stl_shapefile)\r\n",
                "shape(shapely_map['features'][0]['geometry'])"
            ],
            "outputs": [
                {
                    "output_type": "execute_result",
                    "data": {
                        "text/plain": [
                            "<shapely.geometry.polygon.Polygon at 0x2061583ffd0>"
                        ],
                        "image/svg+xml": "<svg xmlns=\"http://www.w3.org/2000/svg\" xmlns:xlink=\"http://www.w3.org/1999/xlink\" width=\"300\" height=\"300\" viewBox=\"886064.0736240405 1029817.8226110372 12314.733651326038 12657.607637488283\" preserveAspectRatio=\"xMinYMin meet\"><g transform=\"matrix(1,0,0,-1,0,2072293.2528595626)\"><path fill-rule=\"evenodd\" fill=\"#66cc99\" stroke=\"#555555\" stroke-width=\"84.38405091658855\" opacity=\"0.6\" d=\"M 889300.3099730797,1030286.6228939071 L 888521.4578562453,1030716.4038584903 L 888495.8801514953,1030729.7729262412 L 888636.0819708295,1030975.7740746588 L 888798.9848602451,1031260.7761293203 L 888756.8848788291,1031261.4759310707 L 887708.8840220794,1031840.0909155756 L 887531.28103083,1031516.1890043244 L 887447.8799509108,1031564.2899579853 L 887292.3769810796,1031280.2879013196 L 887111.1739314124,1030953.3859960735 L 887051.7741158307,1030991.3869043216 L 886532.8739069104,1031347.1949197352 L 886609.3399613276,1031483.6579014063 L 886634.5341366604,1031530.0209976584 L 886685.3391531631,1031623.3321627378 L 886733.9519168288,1031712.5688609034 L 886759.9781114943,1031760.3440278247 L 886836.8168685772,1031901.3841000721 L 886903.3479034938,1032023.4209294915 L 886929.9351206608,1032072.3138763234 L 887016.0481374115,1032230.4041113257 L 887063.8839997463,1032317.900983572 L 887191.4870909974,1032550.9031422362 L 887371.3899464123,1032879.3050444871 L 887546.3928772472,1033198.9070955738 L 887648.9950342439,1033387.0080973208 L 887723.2970509939,1033523.7089394033 L 887870.3000378273,1033794.3110884875 L 888061.603132911,1034145.7129447386 L 888232.4069251604,1034456.2149484083 L 888073.4141329117,1034544.5628688186 L 887701.8591017462,1034750.9010388255 L 887577.7481294945,1034819.8969638199 L 887364.7059046626,1034938.0269769058 L 887624.9110929109,1035408.1300393194 L 887827.6560942456,1035763.7241444066 L 888083.0010559969,1036219.1589290723 L 888380.7199487463,1036057.731102325 L 888459.8198561631,1036009.130149655 L 888547.5201400779,1035965.6279400736 L 888573.3199572451,1035952.2280324921 L 888617.3198692463,1035927.3281479031 L 888635.0199650787,1035915.326859571 L 888707.0201491639,1035886.3259333223 L 888756.2198539115,1035875.6261515692 L 888806.8201464117,1035863.0251269042 L 888830.3200994134,1035851.1248882413 L 888956.7210933305,1035779.8228654861 L 889221.726140745,1036264.6260297373 L 889818.6380046606,1035901.5411259905 L 889927.9629172459,1036099.9488656521 L 889973.3578395806,1036184.0008629039 L 890023.0290000774,1036275.5620314851 L 890138.1941240802,1036487.3421197385 L 890291.3998544104,1036774.1850499883 L 890459.4779303297,1037083.4918460697 L 890690.0430859961,1037506.2278772369 L 890758.8441294953,1037631.5291358232 L 890888.8809429109,1037865.6418565735 L 891214.6621154957,1038456.8910021558 L 891576.2381639965,1039120.246958904 L 891634.8591097444,1039232.5561174899 L 891733.2631124109,1039395.6391246542 L 891613.2620400786,1039461.0408967361 L 891521.1621586606,1039511.3429614902 L 891431.0619451627,1039559.5439805686 L 891355.7618989125,1039599.7450156584 L 891292.8620903306,1039634.8459953219 L 891285.3519347459,1039639.2639654875 L 891473.401099328,1039766.3578714058 L 891321.405996494,1039845.8580404893 L 891171.6169259958,1039926.267000407 L 891187.617878247,1039956.4299978241 L 891193.7950312458,1039963.8758490756 L 891384.1778525785,1040097.7420511544 L 891999.6828551628,1040527.0049721524 L 892890.3900632448,1041150.6671106517 L 893673.8428926617,1041699.6309077367 L 893766.1799783297,1041568.9041350707 L 893857.3510558307,1041439.7321493253 L 894440.0451004133,1041850.5790966526 L 894661.6099459939,1042006.6299656555 L 894743.2098484114,1041886.6279090717 L 894830.0088874139,1041727.9251424894 L 894887.5091004968,1041617.4230669066 L 894999.5078922473,1041439.1199458241 L 895235.4080109969,1041090.9129650742 L 895490.7080253288,1040723.105957903 L 896013.4071111605,1039972.192105405 L 896202.2059461623,1039692.6861027405 L 896620.8061588295,1039092.3749674037 L 897142.2040661611,1038330.3600872383 L 897180.00385933,1038279.6590731591 L 897263.7041512467,1038162.8571414053 L 897318.0039114133,1038102.9550302401 L 897392.8049429134,1038032.1539907381 L 897468.5049227439,1037969.0520828217 L 897606.6050402448,1037874.0489919856 L 897674.4060857445,1037833.9480223209 L 897836.3060244136,1037733.1450743228 L 897910.0069924966,1037687.0441166535 L 897674.4041172452,1037674.8459783196 L 897315.2010954954,1037659.250865154 L 896389.5920543298,1037619.36183732 L 895541.2840396613,1037581.2720184922 L 895372.6829989105,1037574.8740654066 L 895208.8811611608,1037572.5758416578 L 895069.0799315795,1037584.2779179886 L 894935.7790170796,1037604.379911907 L 894834.5781039968,1037625.3808541521 L 894720.4769542441,1037657.383086741 L 894694.6771370806,1037611.882849656 L 894633.5748970807,1037506.4831260741 L 894512.89600458,1037301.5829453245 L 894467.3760824949,1037360.3318435699 L 894441.4381422438,1037385.1041037366 L 894398.2508926615,1037415.3209068254 L 894320.7661394961,1037279.7611385733 L 894241.197072912,1037141.8099709079 L 894159.879978329,1037003.8210736588 L 894074.2850051634,1036862.07299757 L 894210.4579611607,1036785.9429004863 L 894050.9379389957,1036509.7078886554 L 893910.2269343287,1036588.0420495719 L 893830.0781444944,1036450.184057571 L 893746.9460929111,1036308.3050762415 L 893669.6509719118,1036174.2079034895 L 893593.5228433274,1036033.8860056549 L 893510.1319339946,1035880.983096242 L 893434.5218489952,1035743.384946242 L 893356.4478581622,1035602.4131153226 L 893282.1350146607,1035468.4458635747 L 893206.2670561634,1035331.7548639923 L 893135.3259250782,1035202.3250047415 L 893045.735881161,1035042.7298514917 L 892969.8410198279,1034904.7931194901 L 892897.0849317461,1034774.4570940733 L 892814.6021570787,1034627.0020084083 L 892954.9240549132,1034549.8348399028 L 892878.4071475789,1034415.4781532362 L 892788.1340341605,1034257.171055153 L 892623.1760307439,1033967.7959777415 L 892498.527001828,1033741.9690015689 L 892439.4050728306,1033622.695946157 L 892746.3759155795,1033445.0181519091 L 892858.2979358286,1033379.9129671529 L 892829.3114452474,1033328.2969286591 L 892793.0631581619,1033263.7130683213 L 892660.6490529105,1033027.4208899885 L 892469.4860494137,1032686.4711125717 L 892330.4600807466,1032761.6920907423 L 891764.2410688289,1033077.4919840693 L 891625.2151001617,1033155.1729310751 L 891490.5988995805,1033230.658016324 L 891228.2421408296,1033378.7640193254 L 891075.4701366611,1033465.008925572 L 890984.9119188301,1033304.8799807355 L 890887.9101443291,1033132.0791452378 L 890820.3089015782,1033011.679123573 L 890731.5069138296,1032852.9779974073 L 890660.1061379947,1032725.5770054907 L 890525.5040449947,1032482.8750630692 L 890463.302069664,1032370.6751562357 L 890387.4006466605,1032234.3237229064 L 890332.099576164,1032134.8229376525 L 890302.0989799947,1032080.7728489041 L 890215.197907079,1031923.771850571 L 890128.9959797449,1031768.770848237 L 890060.2950016633,1031646.0699781552 L 889956.4930439107,1031460.8689049855 L 889910.3920862451,1031378.5678884909 L 889781.5898504108,1031148.5670361519 L 889689.9879994951,1030985.06605082 L 889602.9858769104,1030829.9649830684 L 889435.9829300791,1030531.6630862355 L 889300.3099730797,1030286.6228939071 z\" /></g></svg>"
                    },
                    "metadata": {},
                    "execution_count": 5
                }
            ],
            "metadata": {}
        }
    ],
    "metadata": {
        "orig_nbformat": 4,
        "language_info": {
            "name": "python",
            "version": "3.9.6",
            "mimetype": "text/x-python",
            "codemirror_mode": {
                "name": "ipython",
                "version": 3
            },
            "pygments_lexer": "ipython3",
            "nbconvert_exporter": "python",
            "file_extension": ".py"
        },
        "kernelspec": {
            "name": "python3",
            "display_name": "Python 3.9.6 64-bit"
        },
        "interpreter": {
            "hash": "cfbdeadd13c8b601e6a5335fb528f04ba47a92b6b17bb9cc1e33e711f4fb3e10"
        }
    },
    "nbformat": 4,
    "nbformat_minor": 2
}