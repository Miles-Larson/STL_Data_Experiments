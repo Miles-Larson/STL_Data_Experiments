{
 "cells": [
  {
   "cell_type": "code",
   "execution_count": 28,
   "metadata": {},
   "outputs": [
    {
     "name": "stdout",
     "output_type": "stream",
     "text": [
      "15.0\n"
     ]
    },
    {
     "data": {
      "text/plain": [
       "[[9, 9],\n",
       " [8, 17],\n",
       " [7, 24],\n",
       " [6, 30],\n",
       " [5, 35],\n",
       " [4, 39],\n",
       " [3, 42],\n",
       " [2, 44],\n",
       " [1, 45]]"
      ]
     },
     "execution_count": 28,
     "metadata": {},
     "output_type": "execute_result"
    }
   ],
   "source": [
    "def fire_calculator(number, cooldown):\n",
    "    original_number = number\n",
    "    new_value = 0\n",
    "    iteration = []\n",
    "    for i in range(number):\n",
    "        new_value = new_value + number\n",
    "        number = number - 1\n",
    "        iteration.append([number + 1, new_value])\n",
    "    print(new_value/cooldown)\n",
    "\n",
    "    return iteration\n",
    "\n",
    "fire_calculator(9, 3)"
   ]
  },
  {
   "cell_type": "code",
   "execution_count": 26,
   "metadata": {},
   "outputs": [
    {
     "name": "stdout",
     "output_type": "stream",
     "text": [
      "96.25\n"
     ]
    }
   ],
   "source": [
    "class weapon:\n",
    "    def __init__(self,damage:float, damage_type:str, crit_chance:int, cooldown:float, size:int):\n",
    "        \"\"\"\n",
    "         Damage is the number on the card\n",
    "         \n",
    "         Damage type is 'Raw', 'Fire', 'Poison'\n",
    "         \n",
    "         Crit Chance is represented as a decimal. 25% crit chance would be entered as .25\n",
    "         \n",
    "         Cooldown is the number of seconds on the card\n",
    "         \n",
    "         Size is 1 for small, 2 for medium, and 3 for large\n",
    "        \"\"\"\n",
    "        pass\n",
    "        self.damage = damage\n",
    "        self.damage_type = damage_type\n",
    "        self.crit_chance = crit_chance\n",
    "        self.cooldown = cooldown\n",
    "        self.size = size\n",
    "    def analyze_dps(self):\n",
    "        if self.damage_type == 'Raw':\n",
    "            self.dps = self.damage*(1+(self.crit_chance/100))/self.cooldown/self.size\n",
    "            return self.dps\n",
    "        if self.damage_type == \"Fire\":\n",
    "            number = self.damage \n",
    "            new_value = 0\n",
    "            iteration = []\n",
    "            for i in range(number):\n",
    "                new_value = new_value + number\n",
    "                number = number - 1\n",
    "                iteration.append([number + 1, new_value])\n",
    "            self.dps = new_value/self.cooldown\n",
    "            "
   ]
  },
  {
   "cell_type": "code",
   "execution_count": null,
   "metadata": {},
   "outputs": [],
   "source": [
    "sniper = weapon(damage=770, damage_type='Raw', crit_chance=100,cooldown=8,size=2 )\n",
    "print(sniper.analyze_dps())"
   ]
  },
  {
   "cell_type": "code",
   "execution_count": 1,
   "metadata": {},
   "outputs": [
    {
     "name": "stdout",
     "output_type": "stream",
     "text": [
      "Current DPS10.0\n",
      "New DPS17.744444444444447\n"
     ]
    }
   ],
   "source": [
    "def alternatives(current, new):\n",
    "    current_dps = 0\n",
    "    new_dps = 0\n",
    "    for i in current:\n",
    "        current_dps += i[0]/i[1]\n",
    "    for i in new:\n",
    "        new_dps += i[0]/i[1]\n",
    "    print(f'Current DPS{current_dps}')\n",
    "    print(f'New DPS{new_dps}')\n",
    "\n",
    "current_weapons = [[20,2]]\n",
    "new_weapons = [\n",
    "    [50,7.2],\n",
    "    [10.8,1]    ]\n",
    "\n",
    "alternatives(current_weapons, new_weapons)\n",
    "\n"
   ]
  }
 ],
 "metadata": {
  "kernelspec": {
   "display_name": "Python 3",
   "language": "python",
   "name": "python3"
  },
  "language_info": {
   "codemirror_mode": {
    "name": "ipython",
    "version": 3
   },
   "file_extension": ".py",
   "mimetype": "text/x-python",
   "name": "python",
   "nbconvert_exporter": "python",
   "pygments_lexer": "ipython3",
   "version": "3.10.1"
  }
 },
 "nbformat": 4,
 "nbformat_minor": 2
}
