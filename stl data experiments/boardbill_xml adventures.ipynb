{
    "cells": [
        {
            "cell_type": "code",
            "execution_count": null,
            "metadata": {},
            "outputs": [],
            "source": []
        },
        {
            "cell_type": "code",
<<<<<<<< HEAD:stl data experiments/boardbill_xml adventures.ipynb
            "execution_count": 12,
========
            "execution_count": 1,
>>>>>>>> db65da7c96d561d4d1b5f4a1b79d18ed158e2290:testing/boardbill_xml adventures.ipynb
            "metadata": {},
            "outputs": [
                {
                    "name": "stdout",
                    "output_type": "stream",
                    "text": [
                        "        Session Board Bill                                              Title  \\\n",
                        "0     2015-2016          1                                    Budget FY 15-16   \n",
                        "1     2015-2016         10        Redevelopment plan for 4245 West Pine Blvd.   \n",
                        "2     2015-2016        100                             Transit Sales Tax 1997   \n",
                        "3     2015-2016        101                           Transportation Sales Tax   \n",
                        "4     2015-2016        102  Vacation of alley at Martin Luther King, Whitt...   \n",
                        "...         ...        ...                                                ...   \n",
                        "1679  2021-2022         82                   American Rescue Plan Act of 2021   \n",
                        "1680  2021-2022         83       Honorary Naming of Captain David Dorn Avenue   \n",
                        "1681  2021-2022         84  Adult Vaccination Supplemental Program Service...   \n",
                        "1682  2021-2022         85            Fourteenth Ward Liquor Control District   \n",
                        "1683  2021-2022          9  Airport Debt Service Stabilization Fund to the...   \n",
                        "\n",
                        "                 Alderman  Ordinance Ward  President Proposal  Passed  \n",
                        "0            Lewis E Reed      69985                     True    True  \n",
                        "1          Joseph D Roddy      70001   17               False    True  \n",
                        "2          Stephen Conway      70049   08               False    True  \n",
                        "3          Stephen Conway      70050   08               False    True  \n",
                        "4          Samuel L Moore      70072   04               False    True  \n",
                        "...                   ...        ...  ...                 ...     ...  \n",
                        "1679         Lewis E Reed          0                     True   False  \n",
                        "1680     Dwinderlin Evans          0   04               False   False  \n",
                        "1681  Christine Ingrassia          0   06               False   False  \n",
                        "1682         Carol Howard          0   14               False   False  \n",
                        "1683           Shane Cohn      71348   25               False    True  \n",
                        "\n",
                        "[1684 rows x 8 columns]\n"
                    ]
                }
            ],
            "source": [
                "#St Louis Power Outage: Where political power is concentrated and where the lights are off.\n",
                "# Purpose of the dataset is to understand the political concentration of St \n",
                "#  by looking at the behavior of and laws passed by the Board of Alderman. \n",
                "\n",
                "import pandas as pd\n",
                "import numpy as np\n",
                "\n",
                "#Function edits the dataframe in place\n",
                "def clean_bb_data(df:pd.DataFrame):\n",
                "    df['President Proposal'] = boardbill_df['Ward'] == 'President'\n",
                "    df['Passed'] = boardbill_df['Ordinance'] != 0\n",
                "    #Remove digits from BB data\n",
                "    temp = df['Board Bill'].str.replace(pat=r'\\D', repl='', regex=True)\n",
                "    temp = pd.to_numeric(temp)\n",
                "    df['Board Bill'].update(temp)\n",
                "    #Remove digits from Ward\n",
                "    temp = df['Ward'].str.replace(pat=r'\\D', repl='', regex=True).astype(str)\n",
                "    \n",
                "    df.update(temp)\n",
                "    return None\n",
                "\n",
                "raw_boardbill_df = pd.read_csv(\n",
                "    r'C:\\Users\\\\legis\\Documents\\BoardBill.csv', encoding='iso-8859-1')\n",
                "\n",
                "boardbill_df = raw_boardbill_df.copy()\n",
                "\n",
                "\n",
                "clean_bb_data(boardbill_df)\n",
                "\n",
                "\n",
                "boardbill_df.update(boardbill_df.sort_values(['Session', 'Ward','Board Bill'], ascending=[True, True, True]))\n",
                "print(boardbill_df)\n"
            ]
        },
        {
            "cell_type": "code",
<<<<<<<< HEAD:stl data experiments/boardbill_xml adventures.ipynb
            "execution_count": 13,
========
            "execution_count": 2,
>>>>>>>> db65da7c96d561d4d1b5f4a1b79d18ed158e2290:testing/boardbill_xml adventures.ipynb
            "metadata": {},
            "outputs": [],
            "source": [
                "## ============= Outline ============== \n",
                "## Feature 1: Data Analyses\n",
                "#####################################\n",
                "## Story:   A citizen is curious how productive their representative is compared to others.\n",
                "##              They want a politician that is bringing relevant funds to their community and representing the group identity in both symbolic and tangible ways.\n",
                "##              How do they know if their locally elected alderman is effective at representing their interests?\n",
                "## Stats at a Glance:\n",
                "##      Basic regional comparative stuff:\n",
                "##         \n",
                "##      Conceptions of Legislative Effectiveness:\n",
<<<<<<<< HEAD:stl data experiments/boardbill_xml adventures.ipynb
                "##          ## Characteristic:\n",
                "##              X is a characteristic of Y. This can be considered metadata for the set. What is the relationship between the primary key and the column in question?\n",
========
                "\n",
>>>>>>>> db65da7c96d561d4d1b5f4a1b79d18ed158e2290:testing/boardbill_xml adventures.ipynb
                "##          ## Dimensional\n",
                "##                      1D\n",
                "##                      -- Number of Bills (PK) [Bills] => [Count] \n",
                "##                      2D\n",
                "##                      -- Number of Bills Passed [Status, Bills] => [Status, Count] =Filter[Status = Passed]> [Count]\n",
                "##                      3D\n",
                "##                      -- Number of bills passed per alderman [Alderman, Status, Bills] => [Alderman, Status, Count] => [Alderman, Count]\n",
                "##                      -- Number of bills passed per ward [ward, Status, Bills] => [ward, Status, Count] =Filter[Status = Passed]> [ward, Count]\n",
                "##                      4D\n",
                "##                      -- Number of bills passed per alderman per year [Year, Alderman, Status, Bills] => [Year, Alderman, Count]\n",
                "##          ## Relationship:\n",
                "##                  --   Difference, Distance, Time, Weight, Volume, \n",
                "##                  --   Two Cards: Alder A vs Alder B or Alder A vs Median B\n",
                "##                  --   Two Cards: ward A vs ward B or ward A vs Median B\n",
                "##          ## Calculated:\n",
                "##              -- Proposed to Passed Ratio = fn(Proposed / Passed)\n",
                "##          ##  Ordinal:\n",
                "##              \n",
                "##              -- Top n in y Population\n",
                "##              -- Bottom n in y population\n",
                "##\n",
                "\n",
                "## Group Functions Count, Max, Min\n",
                "\n",
                "\n",
                "## Influential \n",
                "## Influential Naysayer\n",
                "## Influence by local racial makeup\n",
                "\n",
                "##################################################\n",
                "#\n",
                "##################################################              \n",
                "##              Do you believe that ## summary of bill## should have passed? blind test\n",
                "##              ## You were represented well.\n",
                "##              -- You favored x and they voted for x.\n",
                "##              -- You were against x and they voted against x.\n",
                "##              -- You cared about the issue that \n",
                "##              ## You were not represented well, according to your survey. \n",
                "##              -- You favored x but y voted against it.\n",
                "##              -- You were against x but y voted for it.\n",
                "##              -- You were apathetic about this issue but your representative proposed the board bill\n",
                "##                  ** It is okay to disagree with this assessment, but please let us know why here [hyperlink to survey]\n",
                "##          \n",
                "## A. Which wards have had the most ordinances come from it?\n",
                "##      Each row represents one proposed ordinance \n",
                "##     Requirements:\n",
                "##          Wards, the quantity of bills passed, the quantity of bills proposed, the quantity of bills\n",
                "##          Wards, the quantity of bills proposed, the ratio of proposed to passed bills\n",
                "##          Proposed to Passed Ratio with an explanation of what it means immmediately following\n",
                "## A1.\n",
                "## B. \n",
                "##          Which ward are you in? \n",
                "## c\n",
                "## Feature 2: Illustrations\n",
                "\n",
                "## Visualization ideas - ward map over time\n",
                "\n",
                "## Feature 3: Communication Strategy\n",
                "## Feature 4: Alder Labeling\n",
                "\n",
                "##Column Notes\n",
                "#Session is represented as XXXX-YYYY\n",
                "#Board Bill Should be Converted to an integer instead of a "
            ]
        },
        {
            "cell_type": "code",
<<<<<<<< HEAD:stl data experiments/boardbill_xml adventures.ipynb
            "execution_count": 11,
========
            "execution_count": 3,
>>>>>>>> db65da7c96d561d4d1b5f4a1b79d18ed158e2290:testing/boardbill_xml adventures.ipynb
            "metadata": {},
            "outputs": [
                {
                    "name": "stdout",
                    "output_type": "stream",
                    "text": [
                        "Data Analysis Complete\n",
                        "        Session Board Bill                                              Title  \\\n",
                        "0     2015-2016          1                                    Budget FY 15-16   \n",
                        "1     2015-2016         10        Redevelopment plan for 4245 West Pine Blvd.   \n",
                        "2     2015-2016        100                             Transit Sales Tax 1997   \n",
                        "3     2015-2016        101                           Transportation Sales Tax   \n",
                        "4     2015-2016        102  Vacation of alley at Martin Luther King, Whitt...   \n",
                        "...         ...        ...                                                ...   \n",
                        "1679  2021-2022         82                   American Rescue Plan Act of 2021   \n",
                        "1680  2021-2022         83       Honorary Naming of Captain David Dorn Avenue   \n",
                        "1681  2021-2022         84  Adult Vaccination Supplemental Program Service...   \n",
                        "1682  2021-2022         85            Fourteenth Ward Liquor Control District   \n",
                        "1683  2021-2022          9  Airport Debt Service Stabilization Fund to the...   \n",
                        "\n",
                        "                 Alderman  Ordinance Ward  President Proposal  Passed  \n",
                        "0            Lewis E Reed      69985                     True    True  \n",
                        "1          Joseph D Roddy      70001   17               False    True  \n",
                        "2          Stephen Conway      70049   08               False    True  \n",
                        "3          Stephen Conway      70050   08               False    True  \n",
                        "4          Samuel L Moore      70072   04               False    True  \n",
                        "...                   ...        ...  ...                 ...     ...  \n",
                        "1679         Lewis E Reed          0                     True   False  \n",
                        "1680     Dwinderlin Evans          0   04               False   False  \n",
                        "1681  Christine Ingrassia          0   06               False   False  \n",
                        "1682         Carol Howard          0   14               False   False  \n",
                        "1683           Shane Cohn      71348   25               False    True  \n",
                        "\n",
                        "[1684 rows x 8 columns]\n"
                    ]
                }
            ],
            "source": [
                "## Back to Basics\n",
                "#-- Number of Bills (PK) [Bills] => [Count] \n",
                "class data_analysis():\n",
                "    def __init__(self,df:pd.DataFrame):\n",
                "        self.df = df.copy()\n",
                "        self.number_of_bills = len(df)\n",
                "        self.number_of_bills_passed = len(df['Passed']==True)\n",
                "        self.number_of_bills_not_passed = len(df['Passed']==False)\n",
                "\n",
                "        self.bills_passed_df = df.get(df['Passed']==True)\n",
                "        self._groupby_example = df[['Passed', 'Board Bill']].groupby(['Passed']).count().copy().at[False,'Board Bill']\n",
                "        \n",
                "        self.bills_per_ward_df = boardbill_df[['Session','Ward','Passed','Board Bill']].groupby(['Passed','Ward','Session'],0).count().reset_index().copy()\n",
                "        self.bills_per_alderman_df = boardbill_df[['Session','Alderman','Passed','Board Bill']].groupby(['Passed','Alderman','Session'],0).count().reset_index().copy()\n",
                "        self._2015_bb_passed = self.bills_per_ward_df.query('Passed == True & Session == \"2015-2016\"').reset_index().get(['Ward','Board Bill']).copy()\n",
                "        self._2016_bb_passed = self.bills_per_ward_df.query('Passed == True & Session == \"2016-2017\"').reset_index().get(['Ward','Board Bill']).copy()\n",
                "        self._2017_bb_passed = self.bills_per_ward_df.query('Passed == True & Session == \"2017-2018\"').reset_index().get(['Ward','Board Bill']).copy()\n",
                "        self._2018_bb_passed = self.bills_per_ward_df.query('Passed == True & Session == \"2018-2019\"').reset_index().get(['Ward','Board Bill']).copy()\n",
                "        self._2019_bb_passed = self.bills_per_ward_df.query('Passed == True & Session == \"2019-2020\"').reset_index().get(['Ward','Board Bill']).copy()\n",
                "        self._2020_bb_passed = self.bills_per_ward_df.query('Passed == True & Session == \"2020-2021\"').reset_index().get(['Ward','Board Bill']).copy()\n",
                "        self._2021_bb_passed = self.bills_per_ward_df.query('Passed == True & Session == \"2021-2022\"').reset_index().get(['Ward','Board Bill']).copy()\n",
                "        #self._2015_bb_passed_chart = self._2015_bb_passed.plot(x='Ward', y='Board Bill',kind='Bar')\n",
<<<<<<<< HEAD:stl data experiments/boardbill_xml adventures.ipynb
                "        print('Data Analysis Complete')\n",
                "bb_data_analysis = data_analysis(boardbill_df)\n",
                "print(bb_data_analysis.df)"
========
                "        \n",
                "        print('Data Analysis Complete')\n",
                "bb_data_analysis = data_analysis(boardbill_df)"
>>>>>>>> db65da7c96d561d4d1b5f4a1b79d18ed158e2290:testing/boardbill_xml adventures.ipynb
            ]
        },
        {
            "cell_type": "code",
<<<<<<<< HEAD:stl data experiments/boardbill_xml adventures.ipynb
            "execution_count": 19,
            "metadata": {},
            "outputs": [
                {
                    "ename": "NameError",
                    "evalue": "name 'df' is not defined",
                    "output_type": "error",
                    "traceback": [
                        "\u001b[1;31m---------------------------------------------------------------------------\u001b[0m",
                        "\u001b[1;31mNameError\u001b[0m                                 Traceback (most recent call last)",
                        "\u001b[1;32mc:\\Projects\\GitHub\\stldata.io\\stldata.io\\boardbill_xml adventures.ipynb Cell 5'\u001b[0m in \u001b[0;36m<module>\u001b[1;34m\u001b[0m\n\u001b[1;32m----> <a href='vscode-notebook-cell:/c%3A/Projects/GitHub/stldata.io/stldata.io/boardbill_xml%20adventures.ipynb#ch0000010?line=0'>1</a>\u001b[0m bb_data_analysis\u001b[39m.\u001b[39mdf\u001b[39m.\u001b[39mto_parquet(df\u001b[39m.\u001b[39mparquet\u001b[39m.\u001b[39mgzip)\n",
                        "\u001b[1;31mNameError\u001b[0m: name 'df' is not defined"
                    ]
                }
            ],
            "source": [
                "bb_data_analysis.df.to_parquet(df.parquet.gzip)"
========
            "execution_count": 4,
            "metadata": {},
            "outputs": [],
            "source": [
                "filepath = r'C:\\Users\\legis\\Documents\\nbrhds_wards\\WARDS_2010'\n",
                "import shapefile\n",
                "stl_shapefile = shapefile.Reader(filepath)\n",
                "\n"
>>>>>>>> db65da7c96d561d4d1b5f4a1b79d18ed158e2290:testing/boardbill_xml adventures.ipynb
            ]
        },
        {
            "cell_type": "code",
            "execution_count": null,
            "metadata": {},
            "outputs": [
                {
<<<<<<<< HEAD:stl data experiments/boardbill_xml adventures.ipynb
                    "ename": "ModuleNotFoundError",
                    "evalue": "No module named 'shapefile'",
                    "output_type": "error",
                    "traceback": [
                        "\u001b[1;31m---------------------------------------------------------------------------\u001b[0m",
                        "\u001b[1;31mModuleNotFoundError\u001b[0m                       Traceback (most recent call last)",
                        "\u001b[1;32mc:\\Projects\\GitHub\\stldata.io\\stldata.io\\boardbill_xml adventures.ipynb Cell 5'\u001b[0m in \u001b[0;36m<module>\u001b[1;34m\u001b[0m\n\u001b[0;32m      <a href='vscode-notebook-cell:/c%3A/Projects/GitHub/stldata.io/stldata.io/boardbill_xml%20adventures.ipynb#ch0000004?line=0'>1</a>\u001b[0m filepath \u001b[39m=\u001b[39m \u001b[39mr\u001b[39m\u001b[39m'\u001b[39m\u001b[39mC:\u001b[39m\u001b[39m\\\u001b[39m\u001b[39mUsers\u001b[39m\u001b[39m\\\u001b[39m\u001b[39mlegis\u001b[39m\u001b[39m\\\u001b[39m\u001b[39mDocuments\u001b[39m\u001b[39m\\\u001b[39m\u001b[39mnbrhds_wards\u001b[39m\u001b[39m\\\u001b[39m\u001b[39mWARDS_2010\u001b[39m\u001b[39m'\u001b[39m\n\u001b[1;32m----> <a href='vscode-notebook-cell:/c%3A/Projects/GitHub/stldata.io/stldata.io/boardbill_xml%20adventures.ipynb#ch0000004?line=1'>2</a>\u001b[0m \u001b[39mimport\u001b[39;00m \u001b[39mshapefile\u001b[39;00m\n\u001b[0;32m      <a href='vscode-notebook-cell:/c%3A/Projects/GitHub/stldata.io/stldata.io/boardbill_xml%20adventures.ipynb#ch0000004?line=2'>3</a>\u001b[0m stl_shapefile \u001b[39m=\u001b[39m shapefile\u001b[39m.\u001b[39mReader(filepath)\n\u001b[0;32m      <a href='vscode-notebook-cell:/c%3A/Projects/GitHub/stldata.io/stldata.io/boardbill_xml%20adventures.ipynb#ch0000004?line=4'>5</a>\u001b[0m \u001b[39mfor\u001b[39;00m shape \u001b[39min\u001b[39;00m stl_shapefile:\n",
                        "\u001b[1;31mModuleNotFoundError\u001b[0m: No module named 'shapefile'"
                    ]
                }
            ],
            "source": [
                "filepath = r'C:\\Users\\legis\\Documents\\nbrhds_wards\\WARDS_2010'\n",
                "import shapefile\n",
                "stl_shapefile = shapefile.Reader(filepath)\n",
                "\n",
                "for shape in stl_shapefile:\n",
                "    x = [i[0] for i in shape.shape.points[:]]\n",
                "    y = [i[1] for i in shape.shape.points[:]]\n",
                "    pyplot.plot(x,y)\n"
            ]
        },
        {
            "cell_type": "markdown",
            "metadata": {},
            "source": []
        },
        {
            "cell_type": "code",
            "execution_count": null,
            "metadata": {},
            "outputs": [
                {
                    "ename": "SyntaxError",
                    "evalue": "invalid syntax (Temp/ipykernel_23328/597436711.py, line 3)",
                    "output_type": "error",
                    "traceback": [
                        "\u001b[1;36m  File \u001b[1;32m\"C:\\Users\\legis\\AppData\\Local\\Temp/ipykernel_23328/597436711.py\"\u001b[1;36m, line \u001b[1;32m3\u001b[0m\n\u001b[1;33m    pyproj.\u001b[0m\n\u001b[1;37m           ^\u001b[0m\n\u001b[1;31mSyntaxError\u001b[0m\u001b[1;31m:\u001b[0m invalid syntax\n"
                    ]
                }
            ],
            "source": [
                "import pyproj\n",
                "\n",
                "pyproj.Proj."
            ]
        },
        {
            "cell_type": "code",
            "execution_count": null,
            "metadata": {},
            "outputs": [
                {
========
>>>>>>>> db65da7c96d561d4d1b5f4a1b79d18ed158e2290:testing/boardbill_xml adventures.ipynb
                    "ename": "AttributeError",
                    "evalue": "module 'shapely' has no attribute 'geometry'",
                    "output_type": "error",
                    "traceback": [
                        "\u001b[1;31m---------------------------------------------------------------------------\u001b[0m",
                        "\u001b[1;31mAttributeError\u001b[0m                            Traceback (most recent call last)",
                        "\u001b[1;32m~\\AppData\\Local\\Temp/ipykernel_18708/2034651895.py\u001b[0m in \u001b[0;36m<module>\u001b[1;34m\u001b[0m\n\u001b[0;32m      1\u001b[0m \u001b[1;31m#Shapely is cool for\u001b[0m\u001b[1;33m\u001b[0m\u001b[1;33m\u001b[0m\u001b[1;33m\u001b[0m\u001b[0m\n\u001b[0;32m      2\u001b[0m \u001b[1;32mimport\u001b[0m \u001b[0mshapely\u001b[0m\u001b[1;33m\u001b[0m\u001b[1;33m\u001b[0m\u001b[0m\n\u001b[1;32m----> 3\u001b[1;33m \u001b[0mshapely\u001b[0m\u001b[1;33m.\u001b[0m\u001b[0mgeometry\u001b[0m\u001b[1;33m.\u001b[0m\u001b[0mmultipoint\u001b[0m\u001b[1;33m\u001b[0m\u001b[1;33m\u001b[0m\u001b[0m\n\u001b[0m",
                        "\u001b[1;31mAttributeError\u001b[0m: module 'shapely' has no attribute 'geometry'"
                    ]
                }
            ],
            "source": [
<<<<<<<< HEAD:stl data experiments/boardbill_xml adventures.ipynb
                "\n",
                "\n",
                "#Shapely is cool for \n",
                "import shapely\n",
                "shapely.geometry.multipoint"
========
                "### TODO: see if shapely has any reasonable  \n",
                "#import shapely\n",
                "#shapely.geometry.multipoint"
>>>>>>>> db65da7c96d561d4d1b5f4a1b79d18ed158e2290:testing/boardbill_xml adventures.ipynb
            ]
        },
        {
            "cell_type": "code",
<<<<<<<< HEAD:stl data experiments/boardbill_xml adventures.ipynb
            "execution_count": null,
========
            "execution_count": 10,
>>>>>>>> db65da7c96d561d4d1b5f4a1b79d18ed158e2290:testing/boardbill_xml adventures.ipynb
            "metadata": {},
            "outputs": [
                {
                    "data": {
                        "image/png": "iVBORw0KGgoAAAANSUhEUgAAAXoAAAEDCAYAAAA7jc+ZAAAAOXRFWHRTb2Z0d2FyZQBNYXRwbG90bGliIHZlcnNpb24zLjQuMywgaHR0cHM6Ly9tYXRwbG90bGliLm9yZy/MnkTPAAAACXBIWXMAAAsTAAALEwEAmpwYAACOpklEQVR4nOyddZwd1dnHv6NX9667ZONuJBCCE5xCsQKlLdrSl8pb+tadCtQNqrSUGtJSnOIeJO7u2c267/U7dt4/ZpMQ4slqMt985nN3Z+ae88zdm9+cec5znkcSQuDh4eHhcewiD7QBHh4eHh59iyf0Hh4eHsc4ntB7eHh4HON4Qu/h4eFxjOMJvYeHh8cxjif0Hh4eHsc4g1boJUm6X5KkFkmSVh/i+ddIkrRWkqQ1kiQ91Nf2eXh4eAwVpMEaRy9J0hlAHPiHEGLSQc4dDTwCzBFCdEqSVCSEaOkPOz08PDwGO4N2RC+EmAt0vHefJEkjJUl6QZKkJZIkvSVJ0rieQ7cCvxNCdPa81xN5Dw8Pjx4GrdDvhz8B/yuEmAF8Cfh9z/4xwBhJkt6RJGm+JEkXDpiFHh4eHoMMdaANOFQkSQoDpwD/kSRp525fz6sKjAbOAiqAuZIkTRZCdPWzmR4eHh6DjiEj9LhPH11CiGn7OFYHLBBCmMA2SZI24gr/on60z8PDw2NQMmRcN0KIKK6IXw0guUztOfwk7mgeSZIKcF05WwfATA8PD49Bx6AVekmSHgbmAWMlSaqTJOnjwEeBj0uStAJYA1zWc/qLQLskSWuB14EvCyHaB8JuDw8Pj8HGoA2v9PDw8PDoHQbtiN7Dw8PDo3cYdJOxBQUForq6eqDN8PDw8BhSLFmypE0IUbivY4NO6Kurq1m8ePFAm+Hh4eExpJAkqWZ/xzzXjYeHh8cxjif0Hh4eHsc4ntB7eHh4HON4Qu/h4eFxjOMJvYeHh8cxjif0Hh4eHsc4ntB7eHh4HOMMujh6Dw8Pj36jaTVseA60IOhB0ELuqx7a/bMWBD28+2dZGWirDxtP6D08PI5fFt0HS/56eO9R/fu4EYR69vXcMPTw+24eh3BcC8DuWhu9iif0Hh4exy/FE93X296BYD6YSTASPa9xMJK79+3an9jHviREG3b/bCTATIBjHYYxEpz0Sbj4p71+mZ7Qe3h4HL9UnOi+tm2ASVf1fvuW4Qq+kei5aSR23wg6tsD830NXrXtu0XgYc0Hv24An9B4eHsczO0fc6WjftK/q7hbI3b2vbgksvh/WPgmODWMvhlm3wfAzPNeNh4eHR6/z1i/Bn903o/n3074FXv4OrP8v+CKum+akWyFvRJ937Qm9h4fH8UnzGtjwLJz5NfBH+q6fVBfM/RksuBcUHc7+Fpx8G/iy+q7P9+EJvYeHx/HJW790o19m/U/ftG+bsPiv8MaPINUJ0z8Gc74FWSV9098B8ITew8Pj+KN5Dax5HGZ/FoJ5vdu2ELDpZXjpm9C2EapPhwt+CKVTerefw8ATeg8Pj+OLZAf86yMQLIBTPte7bae64MlPuy6hvJHw4Ydh7EV9Nsl6qHhC7+Hhcfxgm/DIDRBthJuehfA+K+8dGe1b4MEPueGS530fZn3KjbgZBHhC7+HhcXzQuAJe+jZsfwuuuBcqT+y9tuuWwENXuz/f9CxUndx7bfcCntB7eHgc27RuhNfvcuPWA7nwgV/C1A/3XvubX4F/Xw+hAvjYE1Awqvfa7iU8offw8Dg2ad8Cb/8Slj8EagDO+Aqc8lk3br43ee0uV+Q//gpkFfdu272EJ/QeHh7HDkLA1jdg/h9g00tu3PqsT8Fp/9e7/vj3EswHYQ9akQdP6D08PI4FjCSs/Le7KKl1HYQK4cyvwMxb+jZuXQhId7sZLQcxntB7eHgMXdq3wNK/w9J/uIuSSqbA5X+AiVeC1sfiayTgqc9C3UI47Qt929dR4gm9h4fH0CITdydWlz0AtfNAkmHcB1wXzbBT+idmvbMG/vVRaF4N534XTv183/d5FHhC7+HhMfgRwhX1ZQ/CmifcdL/5o1yRnfJhiJT2jx2OA6segRe+7mae/Oh/YPR5/dP3UeAJvYeHx+BFCFj/rJsvpnm1m5tm0pUw/XqoPKn/VpwaSVfg5//RnQMonQYfuh/yR/ZP/0eJJ/QeHh6Dj535Yl6/CxqXu6P3y34HE69wy+71B47tLq5a/RisfcqddC2eDFf9xZ0DkOX+saMX8ITew8Nj8NBdByv+5W7tmyBnmDu5OvkaUPpBrjIxNzxz08uw4XlItLhPEeM+ADNudle8DnDemiPBE3oPD4+BJROHdc/Aiodg21uAgGGnurHvU64BReu7vs0UNCyHHQtgy6tQMw8cE/QsGDXHHbmPucAt3D2EOajQS5J0P3AJ0CKEmLSP4xJwN3AxkARuEkIs7TlWBdwHVAICuFgIsb3XrPfw8BiaOI7rFlnxMKx92p1cza2Gs74GU66FvOG936dtQss6aFgKDcugfim0rN1dTrBoAsz+NIw+Hypn9e0Npp85lBH934DfAv/Yz/GLgNE92yzgDz2v9LznLiHEy5IkhQHnqKz18PAY2rRtcsV9xb8hWueW1Jt8FUz9SO+6RRwb2je7Yt6wzBX3plVgpd3j/hwomw6n3u4WCC+f2XcrZwcBBxV6IcRcSZKqD3DKZcA/hBACmC9JUo4kSaVALqAKIV7uaSfeGwZ7eHgMMZIdbpGP5Q9D/WI37n3kHDjve67v+2jdIkJA53ZXzOuXuq6YxuVg9EiOFoKyaXDiJ1xxLz8BcocPSV/7kdIbPvpyYMd7fq/r2VcBdEmS9DgwHHgF+JoQwn5/A5IkfRL4JEBVVVUvmOTh4TGg2Kab1XHFw+6kpm24rpHzfuD63Y80LYEQEG3YPUpvWOZuqU73uOKDkskw7SOuqJedAAWjQVZ679qGIH05GasCpwPTgVrg38BNwF/ef6IQ4k/AnwBmzpwp+tAmDw+PvkIIaFrpjtxX/QeSbW4Vp5kfh2nXuekJDncUnWjb7U/fKezxZveYpEDxBBj/wd0j9aIJx5RvvbfoDaGvx51s3UlFzz4VWC6E2AogSdKTwMnsQ+g9PDyGMF21sOZJNySyZY2bMXLMhTD1OnfV6OEIr23BjvnuU8DGF90QSwAkKBjjunzKTnCFvWTSkI+G6S96Q+ifBj4rSdK/cCdhu4UQjZIktQA5kiQVCiFagTnA4l7oz8PDYyARwq3WtOE5WP8cNK9y95fPhIt/DpOuOvyC202r3LzxKx9xnwRkDYafDifc4I7US6eCL6v3r+U44VDCKx8GzgIKJEmqA+4ANAAhxB+B53BDKzfjhlfe3HPMliTpS8CrPSGYS4A/98E1eHh49DWW4YZDbnjOHW1H691J1cpZrt993AcOPx2AELD9bZj7M9j2pivuYy+ESR+CUed4wt6LSG6wzOBh5syZYvFib+Dv4TGgODa0bnD94ptfdSdWM1G3UtOoc2DsRa57JlRw+G3vTG/w1s/dhUrhYpj9GTd/zeE+CXjsQpKkJUKImfs65q2M9fA43nEc6Ni6ZyRL4wowk+7xUCFMuMwdtY8468j84jtDILe+AYv+4rp7sitdV8/06/s+d/xxjif0Hh7HG911ULf4PeGJKyDT7R5TA1A6xfWN75z0zB91ZAm8zLRbFGTji1C/BNJd7v7iSW6CssnXgKr32mV57B9P6D08jgda1rsZGNc/4058gusTL5nkrkzdKeqF43oneVgmBg9dCzXvuCGPEy5zFy2VzziyMEuPo8ITeg+PYxXHgU0vwrzfuROpSG4O9/N+ANWnQfFEUH2922esCZb8DRbfD4lWuOJemPrh3u3D47DxhN7D41hBCHcxUet618e+5G+u7z1SDud+z41rzyrum35r58PCP8G6p90kYaPOhTO/6t5YPAYcT+g9PIYKQrhL/aMN7hbree2udxcWta53i2PspHwmfOhb7srRvlot2rgS/vt/bg4bfzac9D9w4seHTOWl4wVP6D08BhvJDle0W9e7IY6tG9zVp9EGsFLvO1lywxPzR7oLlQrH7d76YvS+E8tw49/f+oUbEnnJr9z0wv1V/cnjsPCE3sNjIBAC4i3vEfP10LbRfU207j5PC7lJuUqnuLHrkbKerdx9DRf3f26XptXw5G3upO7U6+CCH3rx74McT+g9PPoSIdxVpO8V9NYeQd8Zbgjgy4bCse4ipMKxPaPysRCpGFy1STe9DP/6iOum+fBDbmy9x6DHE3oPj97AcaCr5j1i/p5R+s686ADBfFfEJ13pvhaM6XGzlAz+kMOuWvj39a691z9xZKtiPQYET+g9PA4DYQuszjRWSxKzvpv0+iaMepsC7Zv4lRW7TwyXuCPyaR/dc4Q+lMVx3u9A2HDdw0P7Oo5DPKH38NgHwnQw21JYLQkym1pIre3ESe7//LRzIv4rPrF7lB7I6Tdb+wUrAyv/DeMugeyKgbbG4zDxhN7juMZJW5gtSXeE3pJyX1uT2O3pA75P9XXhL0mgFodRqyrxz/xFP1k8QGx4zg3tnP6xgbbE4wjwhN7juEA4AqMmitmUcIW9NYXZksSJGrtPUiTUggBavr5L6PVwO/5KE70qD3VENUp5NZJ6HJalW/QXN9JnxFkDbYnHEeAJvccxjRCC9Np2ul+qwWp2fS+SrqAWBdDyFDJRkLUk/sIovlIJpSCb2FsNwAhyZkYJf+jyAbV/UFDzrptC4YIfHve1V4cqntB7HJMIIchs6qL7pe2YdXHUggC5147FNyIbJaJjLltE+6ONQBgsm2RDCcmGne8eRu7J3YQuv+TgHTnO4Ap/7Ave/AmEimDGzQNticcR4gm9xzFHZls33S9ux9geRcnxkfuh0QSnFyMpbvhi+q03aH/WAgIUXhXGd+I5iHQGu6kBu6kZOZKHNuGsg/YT++sDdG+oQMJAkjIoapyC22ajlFf35eX1L3WL3Rzy5/0A9OBAW+NxhHhC73HMYNTF6H6phszGTuQsjZzLRhI6sQRJ3T3iNlYuo+1ZC/ARLtuM3ZzGWLYQtbwcOTeCWj1874aF2CPG3arfQeK/bxPbVgoIJMnCETk4ZhikY8y18dYvwZ8DM28ZaEs8jgJP6D2GPGZTgu6Xa0ivaUcOqmRfNJzQ7FJkfW/RlXQ/eqAVKx0h3jAKGgAywFYAZKkLVe9GDZmoOQqZJgkzmY+qtaOGMjjCR7q7EtgdYugIt7ZpILcGpezsvr/g/iLW7EbbnP5F8IUH2hqPo8ATeo8hi9WWovuVGlIrWpF0hci5VYRPK0f27/9rrY0bT9Ed4wFw4gmsmm1YdQ3YrVFExsKKmtgxhUxXHsmOHMAmWNRAsqUao2vv9vzhLWRdNBHJF0CtvLwvLnPg2DYXEFBx4kBb4nGUeMXBPYYcVleG2Ku1JJY0ISky4VPKCJ9RgRLq3eReIm0gzAxyVhaJp56lc15kn+dJpFDVNtRgCjUb1IIgamkB6rAq5PLhSEO1XF7rBvjzHPfnUz8Pp3z2yOrFevQLByoO7gm9x5DBjhnEXt9BfEEjAOFZpWSdXYmS1b9CKiwHu7EJq6YGq6EVqy2B1SWwkgEsKxfY7TKSSKLqHWiRDHqJjjaiFG3iZOTsIZJCoH0LvPRt2PCsWw7w6r8P/pw8xyme0HsMaZykSWxuHfF3GhC2Q/CEYiLnVqHm+AfatL0Qlo3d2Iy5vQarsQ2rJYbV5WAmcnHEzicCG01rxleYxDemAN+sk5FzCwfU7oPyzt3w8ndgzrfhjC8NtDUe++BAQu/56D0GLU7GIv52A7G5dQjDJjC1kMi5w9AKBq/7QFIV1Moy1MqyPfYLIbCbmjHXrcfY2ojRaBNvqCLeoMMbq/EFawmO0QmccxZyYekAWX8ATvmcm3/+tTuhZDKMuWCgLfI4DLwRvcegQ5g28XmNxN7cgZOw8E/IJ/v8YWglx1b1IpE2yCxfRnr5ZlJ1IWwrH7DwR2oJn1yKf875A23inhhJuP98twD4ZxZ6xUYGGZ7rxmNIICyHxKImoq/twIkZ+EbnkH1+NXpl1kCb1ucIITDXrCE5dxmJ2kIEIQo/6OA75cyBNm1PmlbBvWfC5Kvh8j8c+6uChxCe68ZjUCNsQXJZC9FXa7A7M+jVEbKvG4dvRPZAm9ZvSJKEPmkS+qRJRLq6aPzxQrpfaKFgXDNyXh/Wfj1cSibDaf8Hb/0cYo1w6d2Qt49FZh6DCu927DFgCEeQXNlK86+X0PnoRuSgRsEtkyj8nynHlci/Hzknh9w5KoZRQeuvXsZprhtok/Zkzrfgkl9D/VL4wynw7m/BsQfaKo8D4Am9R/8jBGx4gfa77qPjofVYrSn0vASRyVG07AySF75H8Pw55F+gYJpltPzmHezaLQNt0m4kCWbeDJ+ZD8PPgJe+Cfed6xYN9xiUeD56j/5l21x49QdQt5C4/jFS9smYyWwckbvrFFnuwp/XgX9CIYE5c5D8gy+Msq8QloG1dgnGmi1kdqRJd5bhiCxCxZvJ/b9BmD1SCFjzODz3FbfY+amfhzO+DNrx8zcbLHiTsR4DT91iePX7sO1Nt4DFmV9x66kq7mpWp7URc8N6jO3NGA1pMp1FOCILRe4kcqJD8LIPIh2rE3+WgbVpOYm3NpHYFsEROQDIcgw90omvwkfw3FNQSsoO3M5AkuyAF78BKx6G/NFw6a+h+rSBtuq4whN6j4GjaRW8dhdsfB5ChW6CrBk3H3TEJwyT9FtvEpvbgpGpJHtiPVnXf7ifjO5bRLwDc8USMht3YDRYGPFCbOGulPVnbcE/sRjftEmowyqGnhtr86vw389DVy2MOBvO/gZUnjTQVh0XeELv0f+0bYLXf+g+1vuz3QU3s2477CyIwrJo+/G/MBM5lN55EZIyxNIAC4FdvwVjxWqMrW1k2jSMTDngA0BRO9Fzk/iqs/HNmIhWXTWw9vYGRhIW/wXe/jUk26D6dDjlf2HUeV44Zh/ihVd69B9dtfDGT2DFQ6AG4PQvuf/JAzlH1JykqgTGhsgsycbauBZt/OTetfcwcRyH1qY42XkB/H4Nx3bYtqmDHatayNRECXebGEUO07O34zRZGF0RLKcEyAey0QOthKs70EeX4Js6GaUg92BdDj30oPs3n3EzLPkrzP8DPHQNFIx1E6NNvsbz4fcz3ojeo3eINcHcn8OSv4Ekw4mfcOOtw0efw8Wqq6XptxvRtHbyPjwObeLUo7f3EEmnTTauaqF5XTvUxymKWuQLiQ5J0BaQKUk6RHDdKzEEbbrE8J564zJdaKEm/MPz0cePQJ80Ack3RDNZHg22CWuegHfvcV15wQKY+mGYcg2UTPGSpPUSR+W6kSTpfuASoEUIMWkfxyXgbuBiIAncJIRY+p7jEWAt8KQQ4rMHM9YT+iFGsgPe+TUs+BM4Jky/3o26yC7v1W7Sb7xK+4sGQgTwR2oJTitEP+FElOL8XvVjNzfF2Ly8mejmTgKtaSozAl+PkLfKgtaIhlwaRK6NE0zbdOfq6MMiVE0upHpUPooqs2n+MjKv3sWYzGtIMmwovJCyD3ydvOqBfRoZcIRwJ+MX/hk2vuh+XwrGuoI/+WrIHTbQFg5pjlbozwDiwD/2I/QXA/+LK/SzgLuFELPec/xuoBDo8IT+GCIdhfm/h3m/g0wMplwLZ30V8kb0WZd2WwvxR18kUZOLI9wFVZKURsuKoRUo6JW5aKNGoFWXIWkH9wUbps2mdW3Ur27F2hGjoNukzHFF3UJQr0skCv2ER+QwcloxxeX7zke/P9auW0PTCz9ndtd/8WGyLud08s7/KqUTvWgUkh3uKH/Vf6B2nruv8mSYcjVMvNLLo3MEHPVkrCRJ1cB/9yP09wJvCCEe7vl9A3CWEKJRkqQZwJeBF4CZntAfAxhJWPRnd6It1QHjL4WzvwlF4/vNBGEYmEvfxdi4GbMhjhnLwrQrEOwsXm2j6p1oORn0Ej9adSna2NFIuTm8+ewmEtuj+DoyVKQcsnpG692SoDmsIspDFI/LZ9TUIvyB3nGzbK+tYct/f8HM5kfJlhJsCExHP/tLDD/xA57bAqCzBlY/Cisfgdb1IKvuxO2Uq2HMRV5R8kOkr4X+v8CPhRBv9/z+KvBVYCnwGvAx4FwOIPSSJH0S+CRAVVXVjJqamkO4LI9+xTJg6d9dP3y8CUad6y6FL5s+0JaBEIhYE/bmdRhb6zEbE5idKmYqf1fY4r5YryXwTSlnxIwKyobn9HkoY2tbGyuf/jWTax6gSOpkqzYGY/btjD3rOiR5iEUT9QVCuD78VY/Aqscg1gB6GMZeBBOvgJHneJO4B2CghP5kICiE+KkkSTfhjeiHJrYFK//lRtJ018KwU12BH3bKQFt2cBwHu3EL5sYtmLWtGM0WqY5RAKhSPUX654lKCpFv1yL3Y9hmNB5n6dN/YMTG+6iiiTq5go7pn2LihbeiaL5+s2NQ49hQ847r2ln3X/fpUc+CSVfAyZ+BonEDbeGgY0BcN8DPgdMBBwgDOvB7IcTXDtSXJ/SDBMeBtU+6sfDtm9yR+5xvw8g5Q9rdkIx2seahb3Bi04MALKm+lRk3/XxAbElnDJY8/zeKVv6e0c42WqR8doz9OBMv/V/8ocObDzimsU03dcbqx10Xj5WGMRfCGV+BihkDbd2goa+F/gPAZ9k9GXuPEOKk951zE96IfmgghBsR8dqd0LwKCsfDnG/CuEuGtMALx2HF8/dRvuhHFNLBgsgFDLv2p5SUVw+0adi2w5LXHiW44G4mWavpIsyGymsZdu4nKRl2hCNX2wQrjTDTJG0JzRdC9/mH9N8QgEQ7LLoPFvwBUp3uwOOMr8Cw2QNt2YBztFE3D+OO0AuAZuAOQAMQQvyxJ7zyt8CFuOGVNwshFr+vjZvwhH7ws/VNeO0HULcIcoe7y9cnXQVD3H+8bfU8Mk9/kXHGGjYqozDP/zETZ53XJ32lDIuG7jT5IZ3sQE8eHwG2I3CEwLAcMpaNaTtkTIeM7WBYDmbP66YV76KufJBJ9gZsSaZJ5LJDG0F3ZCxVI8aTF/ZhWTZmOoGVjpFIJuhOZOhKWXRmBN2GRKep0yUCdIkwXYSxe4qVa1hEpCRlWoLKgMGwbIXJw0uZNnUGZWW9Gw7b52RiruC/+9vdq2/P/Ir7OtRvZkeIlwLB48DsWASvfd99PN5HwrGhSrS9mQ0Pf5UTWp+kWwqzYeIXOPHy/0XVeve66ruSfOPx1cQzFstqO3EG4L9UUDLIUQ1yNIscHXL9Etk+iRyfRES1sCyLhGnTnXaoi0NdyscOKxuzZ3F8hdLJrPwks4YXcPL0KVQOGzk08uwYCXeR3jv3uEEClSfDmV92J26Hgv29iCf0HvtmZ7HnjS8cVsKxwY5tWSx9/JeMWftrQiLFosKrGH/dD8nJL+r1vj765/m8s6V91+9BXeHUUQVkTJuU6RbjkJCQJJBlCVWSUBUJRZZQZRlV2fkKqiyjKRKqIqPKEpoi7/o50dnElHCUqvwwqqKiBbNRw7kEwrnkhH341MN/6sqk06xfvYQlazeyoC7Fwlg+ncLNRVQqdzErN8as6hxmTZnE8NETBnf2UDMNy/4Jb/8KovVQPsN16Yy54LgRfE/oPfaklxKODSTCcQD2Ep/1859Hf/nrjLC3sVqfSuCDP2PkpFn7auKIcRyHHz6/nn8t3EE8YwFw5fRybj93NJW5AeTBLIgHwLEsNq1fwYJV61hQE2NBdy5twq3XmyfFcITEFyaluP4jNwxe0bcysPwhePuXbt6l8pluucOSvaYXjzk8ofdw6ayBN3+6O+HYyZ86qoRjfcXaec8jv/Y9QlY3LYERJHPHopZMJK9yHKXDx7Ph9YcYtvwX6Bjs8I0mnjcRrWwK0qYXmRF9lUYKaJj1LU644MZeF6SnltfzrSdXE0tbKBLYAk6oyuHR22YPWYHfH8Jx2LJpHQtWruabS3YPAj5bWcONV1xMYVn1wBl3MGwTVvwLXvkuZKJw5Z9h4uUDbVWf4gn98U4fJhzrTRq2rafpsS9zQnwuTRTQFBpHQWorZXYjsrTn93SDOpbuyGjyutdRZdWgSxYZobG08kamXncHwV4OT1zfGOXTDy5la1sCCbh0ahk/vWoyfv3YTwBrZlI889x/+cKC3StUx6rNvHjnLQNo1SGSaId/fcQNMLj6bzDhgwNtUZ/hpSk+Xkl2uD7LhX/u04RjR0s82smqf93BCfUPkYPMvGG3Me3ab1ESct0GVjpOw9bVtNeuI9W0CbVwOCdceMuuRU5GJs2WDUuJFJQxu5dHmbG0yeceXsbrG1oBmFQW4Q/Xz6Ay9/hYlr9i6Xxu/E8NXSKMhEOxHKXJyeH/Tt3/iuNBRSgfPvYoPHAVPHozXP13GH/JQFvV73gj+mORdNRNNjbvd2DE+yXh2NGw/KcXMS35LgCrfdOIV5xJsHIqpWNmUFBSNWD+4N+/sZmfvrABgPyQzi+umcpZY3t/QncwU7NtE1974A0WJop3hWnuZFrRG/zkolMYO/6KAbLuMEhH4YEroWEZXPNPGHfxQFvU63ium+OFXQnHfuUuJhmAhGNHwsYlr9O++FFCnRsoSW+hiI5dx+aVfJTZt/2+323a2hpnzi/eBCAnoLH8jvP73YbexnEcFtfVsKKhHp+qML2ikolFZfudW2iNR3l89XLe2LiDlTWQSOTscTxS8i9E7nJOFX4+PvEmZs741D5vysIykRR14KNf0t3wzyugcSVc+wCMvXBg7ellPKE/1rEysPQfMPdnEG8eXAnHDpOGbevpfPiTTDRWUCeVELvot4w/qW8WN+0LM2Pw5Hfv5g5jBMmeMNNrg12MyvMzYUwFE2eMJSs7C+UIwhkHgmfWLufHLy4nZUBXLIRj7elykpQUkXCM8nwYXxKhIBxkwbZWNjUKEvFcQAFsQuFORpYITh9VyhWTpzAqv5TuWD2PvPkdHmhdQIcsMdmWuWXE5Zx9ytdoalnBgtUP8VbzIuY5UaqFwten387U6R8fkM9hF6kuV+ybV8O1D8KYoX8D34kn9McqQznh2PtIJWKsePgOpu/4BzYyK0Z8gunXfAt/oHd84ateeZft9/wOoahII0eRPXE8w06cSsW4EXuI9gs//D3FD97L3yZcxKacCrZHSkhqgb3aK0t3MULJMCZXY1xFHpOnjGT8CYMv0daIbz2CY4V2/X7iuA6mVeajyjL1XXE2NMdp6JCIx7MQTk9CNckiO9LJuDKVs8aUc8WkaZRk7b/kYToT4+m3v8/fal9khywIOg7JnpF9kQMz/CUsSTfRIsNVSj6fv+D35BRO6NPrPiCpLvjHZdC6AW58+pgpXu4J/bGG48DaJ+D1Hw35hGPCcVj24t8pW3AnJbSxKOscKq/5GSWVI3ul/aYttSz41l2MWTaXbl+YjC9AQbQNGfd7n1J9tBRUkKkajm/sWMKV5cT//S+GbVkJwKaxJ3LGfXfT1dbFqhWbWbe9lY6kQXPKYYupU6dHcHpSRJxrN3PzeROZOGMsOfk5vWL/vvjX8oU8vnIN1flhTqys4MwR4ygK71uIb3/sBZ5a5C7cCme18NynL6Uqd++JVNt2WN64g+2d7Zw3ehwR/+HfYG3b4uWFv+LdmlcZlzOKmWOvYHT1HCRJIpHq4A8vfIoHuteQ5Qg+X3w6V5z/a+SBWpyXaIO/nOeK/sdfhoJRA2NHL+IJ/bGCEO4q1tfuOiYSjm1bs5DkU19korGSLfJwMuf9iAmzL+qVtpPxJK99/9eUPfdvVMdm21mXctb3v0J2QS6xzihbFq6keflq0hs3otdspaBlB2Ejuev9XYEI8Y/dypzbbz6gmyYVT3LNt//NKt+ek7QlmW5GymmCCqw0/VRKaUaHFcaV5zBxXCUTThhLMCu0n1b3zbL6Gj736GvsaHz/hLCD5usmN5KhKl9jYmkeE4qLufftNWytc0NoP3aWxffOvwRlgPMWbaydy11vfIWlIsEUS+JbM7/E+Kk3DIwxHVvhvvNAD7lin1U8MHb0Ep7QHwsMgYRjjW8/wdInHyAUyaJ03GRKTzyPrOrJe+VM6e5oZf3DX2NGy+PEpSDrJ9zOzCv+D0mS2bajgWGVpWjqkUX+Oo7DW/c9gvyn31IQb2fzmBlM/MG3GTF17EHf17i5lu0LV5JsbmHWzVcTycs+rH63r9/OmpVbWLe9lY3taTabGs1qiBNEF622wnYtG6Mnf5AsHMoz3YzSDMbk+ZhQXcikqSOpHlONYZhsXbOFEeOHEwgHaUvE+N/HnmbeOvfGcPKEOL+67FK2d3TyzvatrKxvY1tritZulXQqC3ZGx0gWM8Z08/sPfZDirJwj+Tj7BCEEz7z7I36x8WG6JMGH1SI+e+EfyCo48N+oT6hfAn+7BPJHwY3PDLrFg4eDJ/RDmR0LXYHvo4RjmY5GHMsgUHTkhZmjm5fy1h/vYv2ODH7FwnJkLOH6aMOaRWlhgNIRwymefDL1zdsZt+4eIiLOosLLGffhn9Dclea/jz5FbONyshItWJJCKliAml9KbkUVw0aOYNKksQyrKj9gqOWauYuo/f5dVNdtoCGvnPAXv8ysqy444uvqbSzTYtOqzaxZvY11tW1s7DLYbPtp9OXsOidgZfA5Fl16CNmxd7mFACrUNdxx8TTOOfnc/UbKJIwM87ZvZlFdLWePGs3JVYPXJRFNtPKbFz/FI9H15DqCL5acxSXn/RKpv4uvbHoZHr7OdYFe/8SQSgXyXjyhH4K0bN/Ku3/5GbWbtqPLNj7Fwqcr+AIBcvJzyCurILd6LHljTiBr2MTDjjU3E10svfdbLFi0BdNRyPVblBZnUTpqNKVTT6Ng2hwU3779p/Vz/8ObD/yVjrhDUbZKQ6eDBMycXsmJ/3Mnij9I6/JXaVz+Lg1bNtPYHKM70zOSxSHot2nJm8DwmWfQvGMH1vJXUYVNUguTPXMOye4uUs31KNFmQmZ8V7+GpFF4zlV84taP7flZ1TQw/5t3MXLx68R9QTqvvYVzvvgJNF/v1Hzta7rbu1m7bANrNtSxvjFKa9rhjBE51HckuD/uFsn++dzfMrFjOwBJn0RHWQizugzf2LEUTZ7J8OlnEs4bmq6Htdte5c63vs4qkWKmLfPNk7/NqAkf6mcjnoL/3AzVp8LHHh+SmVs9oR9CdDTU8e4jD7Jh3lv4AgHGDQvh2BaZjEEmbZBKpulKShjO7pGeJtsENcfNfKhKaKqMqipomoKqqWiahqrraLqO6vODBCuXbCRqqIwqVSmprqJpey0NrWmSlusyUSWH4hyJssoSSsdPpfTE83EySeb+4U421BmENYvqymxaWqIUFGRx6m3fIjJ8yn6vK1m/ifVz/8uStTuoa0kT6G5EEyYA6bwqrvz8lxk7etheI9XVq9bx1C/uwp/qwpB19NOu5ObrryAvEiIRT/Lcj+6h8tlHCWVSbD3tYs6482vkFuf3wV9mYBBCIAR0dzayfflcWlcvJrNhI/r2Rgrq4wQzu8/tyFGIVebBhNGc9dVf4w9mDZzhh4kjHB576/v8estjJCXBzeExfOayh1D6c7J2+UPw5KfgzK+6rtEhhif0Q4BoawvvPvoQa998DVXXOeHiDzLzkivxh/d+jBS2TaJuA52bltCxbT0dDXWkEiks08S0bCzTcV9tgWmDZYPpSJiODLj+8sKQzVnXfYSq867f3a7jENu2goZFr9C4fjWN9a00x8DpccNICBTJYeYJ1Zx0251okSMXVMMweeftBSz900/c4t6ShOwPomdlE8jNI7uomHQ8RtOKJeDYZHKLMQtLQXFvRDFHx++YaKr7/Q0lk+TLCoXZEUoqKymfMIHiSZNQ9KExqj8SbMembsty6pa/Q+fyxZQ/vQi/CYYChU//m7KR+7/xDlY6Y/X8/NlbeDrTwKnCx08ufZjs/NH9Z8ATn3JDlm9+Aap6N+tpX+MJ/SAm1t7Gc/f+hh2rl6PKMlPPu5hZl19NMDun1/sSjoOdSWIluvDllR2Su8dKRGlZ9iqN7z5BcvsKpn7xb0RGHv1CrEQsxn1f/ixmZwdlJ87GTKdJtLeRiXZhJxNIjhsSKFSNy796ByMmTWF9TROrNtdSU9/I1toGHDPN6YURCo0orZ0dtFkWUZ8P0XNdsm2TkzEo8OlMP3k24z9w7C17F0Kw4LHfYf7qTxS0m2ybXMD47/6U4ROHdmm9R1/7OnfVPkOZA78542eMGNU70VgHJR2FP57m/nzb2+AfOrV7PaEfhCSTSR743T00ROOgqEiWyY0fuY7qCcd+3myAuz91M1ZHK4GyKj79qz1THDiOQ1dbG/VbN5FbVEzFiH1PKDqOQJbdJ5TuujoWPfYY4UgExxGYRob127fTGHAXO41zHD78/e/37UX1M9tWvc2GO77KsLUdNBdq+L/waU6+4raBNqvXWLbuMT4//w4UIfj3xQ9SWDKtfzqunQ9/vQimfBiu+EP/9NkLeNkrBxHpdJr58+czb948MpkMajxKeVUVNZ1RHnr4YW7++CcorR4+0Gb2CrZlsfj1V5AkCV8wSCAUxh8MEQjtjh+3TWOv98myTF5REXlFB04gtlPkAV6+/35WOw50du4+IRDAZxicWjWMUz8+BFLqHiLRjibeuvNzVL2wikINam6aw5zP/wz9CBY5DWamj7+K+/y5XPPm5/jD61/hO9e91D8dV50Mp38J5v7UTZEwcQgkbTsIntD3E6ZpsnDhQt5++21SqRTjxo3j7LPPprjYjZR464XnePXd+fz5vvu49MILmH7aGQNs8dHzwoN/Z/1zTxzwnNGzTz/qftJdXWzIZBguBGddeimtW7fS1tgIksTpN95IqGCIpNQ9CLZt8ea93yX0lyeoTjhsPb2aWd+9hxnl/ejD7mdGD5/DVQsqeSy9g5vrF1JZfpjpCoQg095KrGY70fpmYs3dpBMGEy8/k3D1AVZfn/kV2PIqPPN5qDgRsiuO6joGGs9108dYlsXSpUuZO3cu8XickSNHMmfOHMrL984Jv37lCv7z6KPYSMwYO5pLP3r9PlocOvzq1o8hTJPTPnYL6WSSTCqJkU5jpFKYmTSyovDBWz+N7ju6uOm3/vQnXm1o4JySEsaeeip6Vhb+UAgtKwvZ5xsaRa4PwqrXH6Xlhz+ibEeSHdUhyr71bSaddtlAm7WLtq5OFq9YQ052FgW5uZTkFxAKBfb52S9Zu5poNEFhfh4TRoxEVg48V9TcuIyLX7yek4SPu698Gv299RSEwOhuJ7Z9O7H6ZqJNXUTb08S6IZrQiRnZZJy9AxoK/A1c+YNL0A60kKx9C9x7JhRPgJueHfQhl56PfoDo6urib3/7G11dXVRVVXHOOecwbNiBFyZ1trVy3+9+S0JIhCWHz33tm0cthAPB2kULeP7nP2D4Wedz5ac+16d9/fOb32SLto//hEKgWhaqEAQFFPh0CgsKKB02jNzyct5+6ika0mlyFYWinBxKhg2jYsoUCsaM2VXUZDDQ3dFI7WlzUB2wZNhxQhlyWQnVl3+Ecad84JDaaNjSSWFFFpqv9x/iWzrb+eudrxNO5O2x35FsDC2F4zPBb6EEwEw7hFt2x/vrp3Rx6w1XHrSPf73xDe6qeYYZJvzi/D+RXzWbl7/3F2qb80k7e06YqlKGLL2bSChNVrZEJN9HVnEOkfJiIsOG0bxsBf991GZsyVbO+c4nDhyUsOpReOzjbkW2c797WJ9Lf+MJ/QDx4osvsmDBAq677jpGjRp1yCNLyzK58867ABhTUsBHbvtsX5rZJ9z37a/QtWkdH//t/eQW9G3JwnhTE1veeQcjncHMpDEyBoaRwTRNDNPESCaJplJ0KAqpwO5MlJLjUGYYRIUg5vfvkS9ouGHw0e98B9U/QEm33oPjOCx48o+0L3wHaUstI1a17TrW8a2PUzHtVKomnrzP71cileQf/3weZ6mb9CxW2EywVKZ8eD6Tx42iuNANkXXj9V0tEI5wU74J+Ou9z+HbXkQ6EMXxG6CA7BNcccOpDK+owLRMfv2Dxwm251P0AYtAwEd3NE4iliYVNzESNnYKRFpGyeiAhH+Eib6qFIBh18pccvZZh/Q5PLfkd3xn1R/Isx1+Pf1LND2vsG5HJZqU4rTTU+SNriYyrIpAQcFBI8oW/eFhFq4o5vQTG5jy8Y8d8Fye+oxbf/bTCwZ18jNP6AcA0zT55S9/SXV1Nddee+1hv//tF5/jlXkLkWybb333uyi9PMK0TJMd27ai6jrBYAh/MIju86Gq6mG5OtYuXczW9esJZ4UJ9Ey0KqrGs3f/hHBpBTd/70f4/f5B4T4RQhCr3UHDqpW01NUxatbJlE2fBrh+/vrly3nhuedpDbo3A9lxiGQy5KsaRXl5FA+romLSJPLGjEGWZeJNTfhzcnr1ZuA4DksefJC169aREw5TUl5B+YTxlEyevKuft/71Swq+++c93td8+4c461M/2GPff559iZZn9hzBG0oa3T58e+PD6nGSMpHW0t224mAqGXx2gLyL01z3wUMPX/3ZL/9JcGM5iaIWPvqpOZSXuhPvjuNQ19xEU2sbbR1ddHcnOHHaBEb1PAmvqXmD21/7HN3YfLf0PMrqT2HeolxylAYuum0quZOnHVL/wnZ47o5/UNtWxmXX6ZSdedYBLr4F7pnuJg+88t5Dvsb+xhP6AWDlypU8/vjjXH/99YwceWQpd3/87W9iywrf+O73el0o//7bu9nW1rnvg46DjEACZECWJBTJjYZRZRlFkVEVBVVVaezsxlEOzR0gSRKSJCHLMpIkoSjKrk1VVVRVxe/3c9VVV5GdfegJxXoTx3HYsWABjevX09zYSGs0SgeQfI+Ya6ZJlmnREfAjOw7ZhkGBplGUX0DJ8OGUT51CzrC9V/keCCOZpH7pUp5/5hlaAgH8mQwZTdtjTcBJ2Tlc+KUv7nrPix84iaotMQC2njGSyCmnUT51tju6V1V+95lXUcSB/zbJYU1kl/vcZXSSBDuLsO/8ukkwefJITu4R0NauDt54dyHR7iSJaIZM3KJsZC4fvfzw6rDajs1f//MEsTeDSJLEmItzuOCik/j9/Y8gL94zlYOhpBl3TRYXnelO3Ld11/LFp67GrjuZk5tOQTbyECiUhndw5c9vPGC/idptNC9bRXdzN20NBhubhhNUurjx15cgawdYXPfUZ2HNk/C1Whig0pYHwwuvHACWLFlCbm4uw4cfWajkppXLSSsa4ypK9yvyjuPw5rPP0NrSTDAYZNpJswlGssjJL9glMk21NVi2Rdmw4bv2GZk0Nc2tBGSJ8aNGYZoZTNPCNM3dq2ttC9u2sRwH23ZwhMC0LDJC4AACyd0kiZMmjKVyxEhS8QSpZIJEPE57Zydadi6GYWCaptu2Ze3abNt227csHMfZw3Vwzz33kJeXt0v8NU3bYwuHw4wfP56SkpLDEtNDQZZlhs2ezbDZey44SrS1Ub9sGY2bN9PS3EK7ZTFFVVFkmRbTpM622dTdBcuXwfJl+AyDPNumIBSipLSU0rFjKZ82DV9kT39y+6ZNPPe3v+2aY/ApCueUlnLKLbcgLIsnf/pTVguBoyi0dHawff7LVEybjeoP47/uKja//DLBmlaq3t6CtHQzzZf8hW31Du16kNBlecTjYTJ5Y7ig8pMsX77RFXAJou0p5KVFOAYkOgyEwE2D3fMiHPdUIWCTtmOX0Bfm5HH1xUdfgk+RFT5x7YdYfMJKnr1/Kdue8fHbZ19GdXaL/ORbs1BVhTcf3MiWh3Xuq32CWz56GX6tgNtn/oX/rn8HySjEkWxOm91B9cknH7TfZ345j/Z0CRBGl5MUBhspLjI56IC3YiYs+6db4Ce3+ugufgDwRvR9QGtrK7/73e8499xzOe20046ojX//+Y+sq29yfxEOkhDuxu5RdmZ/KYodB004SBIYsnsvH1NSxEdu+zQArzz5GG8vX8U5J5/E6RcOntWib7/9Nq+84sbdH+r30u/3k5ubS2lpKSNHjmTkyJH4B8ivHm1ooH75Chq3bKa5tZW2TIYuTcPuSbksOYKsTJp8RaEwK4vUjh2szcsDSWK8qpGVFea0G27YIxx08YMPMW/FCuJZNlUjV1JcvAXJAa3Dh+wolOdeTdWcL7H+qc/RHHwdoYPVmENrmUSp7D6xZRwYO/1RwloIx7EROLR3d/LC7zciJwp7Ru8CgQAJhCSgpzBLMOM+WSWDXTh+AznoIPugfEwuH76sd1arxtIx/vHkUzhtOqEcneyCEFMmjmZ0ZTUA3Ykof/j1U2TtKMdQU+jWnhW/0mqCK742jREVlQftq+Hd+bzwYBOmo3PehSYjLjvEyKW6xXDfOW6t2fGXHu4l9gue66afeeGFF1i4cCFf+MIXCO8jV82h0Fy3gzdffB7TMDB2jYbfM9K2HeJi75F+riYTCgaIJ5IkDXOX0GcrEpUVFei6ztJNW/Z6n+TYKEKgyhKaoqBrKrNPO52Zp595RPb3Fo7jYBgGqVSKTCZDKpWira2NrVu30tLSQnd3N5Zl7fEeVVXJysqisLCQYcOGMXr0aAoKCnp99H8o2KZJ67p11K1eQ9OOWlq7u2l3HOI9N6Oqzk4uue1TFI3fdxnCRKKLefO+jyOeRZIcnO7plGSgrWTJXucG63MZe8KPyZt4Lu9s/ivp2jsPap9S9r+cNe7z+z2+YO1y3nhxOU5SRiQV9GiYgOkmS5txWx6F+XmUFhQSDOxdbrE3sR2bv/37KToaEoTydPIKsygrLaS6opzywuKDFlSxEzFitTXE6hppWNfA4rXlgMzpJzUy5ZaPHtwAMw0/KodTPgfn3tE7F9XLeELfj5imyS9+8QtGjhzJ1Vdf3ad9dXd20FhTQzqVJNbVhWFkOPuSy/YIDXzh0UeYv2rNEVWgqszJ4uOf/+LBTxxgDMNg27ZtbN68mYaGBjo6OkilUnucI0kSgUCAvLw8ysvLGTlyJNXV1egDlPQs2dZG8+NPUH3LzUj7KLJimhkWLLiHaOwBfL44pjGJadPupKRkMgD1b93L+tRP3YG3Btl1w5lx/cu73HyxdDuvrLkLxzGRJJlEfA051nbSQsOUAjiyn1KaiWVfwuUz7j5ku594+WUaHttbVE05g6mnkW2VsVdkccmcs3Yd27Kjlq01deTn5lCUn0dRfj76vsJhe4nuzRtY+ugirHSaWFwlmsoiYWfjPgu7yFiEtW6mTLOZ+vEPH1rD954Big8+8XLfGH6UeELfj6xYsYInnniCG264gREjRgy0OQA4tk06lSSZSJBJJkmnkqSSKTKpFJl0ikw6TSaTwTQyGIaBYRg4ts05l15GySE8Dg9GHMehpaWFTZs2UVtbS0tLC/F4HNu29zhP0zSysrKYPHkyZ599dp/Y0tlZw7Llv0ZRwuTnTaa8fBa5uXuup3Ach7a2dTQ0zKOzcwXJ1Dz8/k4Mo4RRI7/B6NH7jpd3HIdMew2+vErkA0yK//P1sykTtXvtj2d/kMtm/Ip/PfM8tW8mED4LKeCghiT8YZVQxEdWdpDcnCwK8nIpLsinM95NS3sHHZ3ddHclSHS7oZS+NbsjchLhDpyAiRJ0UOty94r0yagpLF8a4Td39ZeV7+OG6y7Bd6BJ0UNg2X3/5t3FbkhvUO2mqriLrDyNSGGESHkhWZUVhMrKkA9QInKfzPsdvPgNuOk5N2/9IMObjO0n2tvbeeONN8jLy6O6unqgzdmFrCgEw1kEw4MzP3lXQxtNWxoI52WRlZ9NOD8bRTu6cFJZlikpKaGkpGSP/YlEgs2bN7Nt2zYaGxtpbm6mo6ODt99+u9eF3jTTzJv/I1KpR1BVA8uC5hZ3M80Atl2KplVjmlFUdSWq6ub9cRwZKKYg/5tMnnwj8gHcErIsEyg8+IS/JClELYVTZ79Me2wbnclaUpk25oxw67XWb+4gFC+F3XVeELi/xoFGEkACqMPBwdCSWP4Mwm+hBAVaSCYztgm2ZCMkGyWju3HzXZAORxlzcZBUOkOsK0kilkHELZyEQKRk5E4dX10+acmm+bw2qkrLjvATd5l289XI+jMsmKeStkI4Tie2YZGOxkFY2KkY4dIidpVcPFRm3gLv3AOv3Qk3Pzek6jR7Qt9L1NbW8vDDDwNw3XXXDYg/eCiS6k7wxz/dSxpzj/0+NAKyj4DqI6gFCPoDBIMhQqEg4UiYUHYWWXkRwvkRQnmRfRbwfvjhh2lqasLv9xMMBgmHw0QiEXJycpgwYQLbt28HQFEUrriidxNXrV79H2p3/BSfrwPLGsmE8XeRlVVCff1C2jtWYhobgB1IvImug2VNx6dPp7BoBhXlswiFejk9rqQiS4Ki8DCKwnuvzg5EVA70bK+f1klWboB4d4pkzMCJ2zhJAUkFp1VH1AXw2fv202tRP+se78b2ZSBgoYRAD6lEKnXCkQANWzpgE0TmpI5a5AEkRWbqDZcx+vwmFvzlWbY15JNpDOK8R+5OWvcQJ/7vzYfXsBaAM74Ez33JzYMz6tyjtrW/8Fw3vUBHRwe///3viUQifPSjHyU//9ipcNTXzP33S7y27l3OHjubrOwIiVicRDxBMpUkmU6SNNKkrDQpJ0NamLvju9+LAL+kE5B1gqqfgB4gZidpTrUftP/Kyko+9rGP4eulNBNNTWtYuuzr+HxrMDIRSkpvZ+qUG/Z747dtE9s20PXQPo/3Fg/MvYRicx0J4d4Q3Y9RoBVew8VT7yJjGazcuN5d59Cz1kGWZZav2Ejs5TBTbo1w+ox9egV2EUvGae5so7W9k47Obrq64sSjKVIxEyPuYCeBtIKS9uEzgqjObhdNelwjX/z8IUyKHiHCcTC6u2icv4hnn9JQpRQXXy5hZUysjIGVsbAMC8twsAy3eI9lCiwTLAssS9q9ZUzytRrO/sWdh13Csy/xXDd9zMKFC3EchxtvvHHAFvoMRRzHYemGlRQpOZzx4fMPuijMtmwS7VFi7d3EO2PEu2L7vDG0JTuIOakDtrXLhuY0j/72AYK+IKFQiGAoRDg77G55EbLyswnkhA+aeAtg9epHaGz8Fj6fTSaTQ2XFl6kaduYBn+4URUPph2RZE6o/wZqtv2VXID0S+dZm4i1P8e93NgMCn6+Yy2bcs8ffYf2aWmJAds7Bo8eygmGygmFGlVcf9FwhBJ3xbprb20im0kwfe9aRXdghIskyvtw81s9rAIZhiQBPPwGw71BcGQtVNlAlE1WxUGULVXFQFRswWZc6lwmbWikZOzTq9HpCf5RkMhmWLVvGhAkTPJE/TDYvXEuXE+eiKWcf0spfRVWIFOcSKc49pPYtwyTeHiPe3k28M0q8O/6+G0OKpJmiJd5BKtaI0Wbtsx1JSLufGDT3iSHkDxIMBgmFQ4QjYSaedQLBUDGGWYniNOLzddHS+k1aWsEwwjhOKYqcx7BhH2b8+A8e1ufUG5xQdTknVF2+x75/vHoKxVIzaqbnCToDr73+3K7jWxfdiLHNXQeS38sVzyRJIi8rh7wDZY/sA0699TzGrduIrPtQ/T5Uvx814EcNBlH9AdRQENWnHfDGnk6Y/OWLb9GwPU3J2H40/ijwhP4oWblyJZlMhlmzhlZ9ycHAknmL0IXKtPMPM8f4IaLqGjmleeSU5h38ZMDKmMTbu4m1RYl3RYl3xUnE33NjyKRIGmmi8TZSUQNTes+NQZKYev6ZjBj+Ko7j0Nm5nYaGhXR0rMQQ6/H7VwCwbfvmARH6fXHDOe8C8OLTH0QNr9nreFBNEx9WQ3FwPfWr19MRLCIYKiKUVUhWbgmBUPaQm4vKqqwgq/LocsurunvNtuX0hkn9wkGFXpKk+4FLgBYhxF517iR3KHY3cDGQBG4SQiyVJGka8AcgAtjAXUKIf/ei7QOOEIIFCxZQVlZGRcXQLkzQ3yQ7Ymzu2sHEwlH4wn272OZQUX0aOWUF5JQdWqGS1a8t5dG5T1OoZDPp7Bm79suyTH7+CPLzRwAf5qWXPwFAJjOFE2f+pC9MPypmnfJHls27G4OFqKHdIZgFo5dSEnb/y8YciO0MwWl2jzu2imNGwMpGEjnIUi6qkouu5+PzFeAPFhDKKiKcXUxWdjG+QN/OQ/QX0dY0AJGCwfG9PRQOZUT/N+C3wD/2c/wiYHTPNgtX3Gfhiv4NQohNkiSVAUskSXpRCNF1tEYPFrZu3UpbWxtXXHHFoMjOOJRY8uJ8bMlhxul9M5rvaxzH4dm5LwCQtNP86Se/JaD5CfoCrksnGCKYFaIx81+yCl7HNmdwwTl/R9EHVhxs22DL6ieQJI0tm3+OkONgB5FECFnOxjEDyJo7v6GGNwEghERF7i9QlDCmlSSd7iCTasUw27HsDmzRiZC6sJUdCL0bWzFJWUC0Z6vv6Ts2i/Mve6hXrsNxHNpXtSOpMoGiAP48P8ohzKMApDvTbP3nOoTh7Eq1IcmuHx9NRlIl0BRQ3Z8lWUJSJGRFQlJkYh1pshXIKRo6pRsPKvRCiLmSJFUf4JTLgH8I9xObL0lSjiRJpUKIje9po0GSpBagEOg6SpsHDQsWLCAUCjFx4sSBNmXIsXLzavLVCFVTjiyz50AjyzJnTTuVpoZG19efSRE3ErSmOkh1Gjg9WSCnn/AaAIq2hDfenoRsBVCtbBSRhSQUxoz7Dvmjet/tt+TNH9EW/zvCURBWAEmEAIGWU7/rHCVLwolVIuQkKK2g70BS7b3akiRBfdcXALANGdvQwPKBCIAEo0Z9idFT3OIhjuOQScWId7cQ624mGW+lvvFPqOGNhAK9V/h+/W9XEGlwg/7TgC0EBhKmLGGrMo5PgaCKHNJQs3S0XB++vADhihCxtR1EGuJYQvTkaIWduX1UOOigzQecEVbJLhz4WgWHSm/46MuBHe/5va5nX+POHZIknQTowN5JVtzjnwQ+CVBVVdULJvUdtm1TW1vL2rVr2bhxI2eeeSbqPpawe+wfK2PSancztXDskH4SmnX5vvMAOY5DOpok1trNuo2TyKWNNn7mHlNTGGoKcBPWJbu2k8/hCf22Nc/QVP8W/kAxwXApoawysnKrCeeUoSg6m1Y+TofxFxwzguIU4RBDyFFkNY3RnUMkcDqRnDFk54+javSc99lukU62Ee9uIBlrIhlvwjQ6MYwujEw7ptWF5XRjS3HUnDoAatu+TP0zTzNxxhcoLJtCIJRNIJRNYdlo3n7pu6hhd8yXsP/D5tWzGTXp6BambX5kA5GGON0RncDYPKyogR0zIGUip21U00GNG2gxY681TQl2J0KQzhlG9fl7r1B2DAc7ZWGnLRzTwbEcHFu4r5Yg/eA6ZEnCFxrcpQXfS58rlCRJpcA/gRuFEPucvRBC/An4E7hx9H1t05HS2NjIQw89RCwWQ1VVJk6cyMnvS426M694urmZsmnTiIwYcUhi1rRqFateeRVV09B9OqruQw/4mb9kCSlAE6BKoEkSqiyjyQqaqqCpGpqqovt0NF1H9/nR/T401Ucgv4LsqgrCeRGCuVnI6uCYOFN9GsMCJaxs2UDo/qc55/qLUbRj52YpyzLBnDDBnDDFoz/Eqpe+Cipkp07BERksqQtLjlKgXUTlzMMrSrN1zdNsqf8CsipImtDRCXQCtW5KYTujIikOTsbPqWc9TSTn8OaOZFklGC4hGC456LmL3/whXeZfEEKC0FtsW19NYdmUXcfffO5rWP7/7Ppd8UWJde+dhgHATJkk29IEiwNo+u7vQrSmm7pntiFpMmqWjhAC/8pWoj6FsV+agarv/3sjbIEdN0i3pki1pTA6UiSbkpitSUTGpmr83pP0siwj+2VU/77bFbaz0xM1pAYpvfG/qx54b0KUip59SJIUAZ4FvimEmN8LfQ0YjY2N/P3vf0fXda6++mpGjx5NOh5n2zvv0LBhI03NzbQZGbp1fVexCFatIpRKEVEUdE1DkxV0VUFXVXRdx6fr6LoPn9/H4tWradlXBsBAgGA6TUQCSwhSjsASbp54y3HzuduqCul9xY2vgXfcn9wQQQ1d0tAUFU1xbxCaqqGrPbneVQ1d19F0Dd3nQ9d1dL+O5tfR/a6dmt+H7tfx+X3oAR3Vpx80xty2bLpbO2itaaKtsZX21nZs4SAkeLd2Ken70nzwU9cc3R9okFK/9Cla1EcpyFzC1A8cevKwfdHRspFN276KEDoTR9+HbWVIxOpJJhpJJ1swzHYwOxDCYsoJ3zpskT9cZp75DdLJT/H2u+4anW7rAV545hGwAji2hi+vFTs2G00pxHK6KSw8h2mz914UlWhK0PDrpQSALiFIA6augF9Fjxm8f41wUpKo/twJBxR5AEmRULN9hLN9hEfl9Mo1J+a7joqCm4eWu7Y3hP5p4LOSJP0LdxK2WwjRKEmSDjyB679/tBf6GTCSyST33uuWEKtwHOY9/DD/FYLUezLwBTNp8oGRfj+lw4bhz8+nYfNmmpqaiaeSRDMZTFnGUhRMVd2Vo3wXgQDTdZ2zbrgBM5nESCTIJBI4lkX1qaeiHCDbn2PbGNEomXicTDzO9i98AyPWQfjW/8PMKyAZi5NIJkmmkqR7aqmalknKSBETcUxhYWFjYmNLhxcyJglQUFCQUSUFFRlFUhAIbBxsYZMSu33WAIqQyZZDDA+Uoakq00898IrLoYrjOGxquQN0iDnLWPDfqwiq1Uw876eHXXzcSMdY8M5HUIMWY6p/T9nwU/rI6sPDH8ylKPRFol3rMMwOhNWJY0bJ0jV8tWeSvf5GHEXF1mXwq6xZvAwlS8faHiWUMrEkCQnQhSAxOheRtnG60mgpCyXm5v6RPjCcwulFJFuSpDvSVI/NQ8/q/6yjZkuS7he24xuVg2/Moa3lGCwcSnjlw8BZQIEkSXXAHYAGIIT4I/AcbmjlZtxIm50JJK4BzgDyJUm6qWffTUKI5b1nfv/wyB//uOvnrak02ek05ZJEcShE6ciRVJxwAtn7KP69v6knYZpYqRRGLEY6HicTi2Gk01TMmIF6BHm9ZUXBn5uLPzeX+NtLydq2Hv/Us8grLUYJB1GqS5DDQZSsEHIkiKzvfdMQQoDlYGdsjGQaI5nBSGXc13QGI2OQSffcJHpy5Ls3DGNXRSrLsrAcC8u2kQSokoKiqgT9AXKzc8kvyqewqoTcqkJkvXdr4A5WKkP/QzS6irSoIR5cTtrYjmMZyMqh/50dx+HN565Dz+kk3/e/DBt7Xh9afPhMmf3pXT+biTTbfvAaki2RLszBypKRMjZaxkZLWmgdYtf/k6imIAIqkmGjnFjC2EsOnO1VD+swQAlhhenQ8dB6JF0m75oxQ8ptA4cWdXPdQY4L4DP72P8A8MCRmzY4EI7DtLlvIYZVce7111MycSLaURZZkHaWxYtE6O3I4vjb7irH9Io3aPjcG3ufIGtU/P6vZJ01Y4/dkuSGlKmaghrWGTqBY4MXWZYZefqnsIwUi16+CsnWmTTyt6i+w/v+zH/5y8g561CSZzFtzuf7xtheYtMfXyVChMzZCpMvnr3Xccd0SHekyMQMykfmDAnBFELQ+cQmzKYE+TdNRIn0Tl6k/uTYmQHrI2KvvIJv/Xqu+uStRGYOfhdD0Zc+TvDEqdjdcZxkqmdLIpIpos89i922meYf/pj2P5ci+YPIwQByMIQcCiEFgyjhEHI4jJoXIXzaFJTIkVXI2okQgljcoKktQXdnmnTSxEibu6IaSNtgOYw5p5qRVUPrcfhQcBybFa98hmRgA2PCPyR/9N7idyDWLf47SeVJ7K5hnH3ZvX1kZe+w7b/zibRGaA+1MPXiq/Z5jqzJBItDBIuHzuKpxLsNJJe2EDm3isC4Q1tlPdjwhP4ACCFo//N9aFVVZJ1//kCbc0jIqkLknH2H6yl5uXQ++Dfs7jas1jqEmQYrvd+2JF8WOR/5BEWfuwk5oGPaDomMSTxlkUxZpFIG6bRNJm1ipi2cmIkUMyBqoMVNQgmb7JRNwIYg7PMpwZJAFbC5uvOYFPoNb9xJl/9NKpxPUHnSoUfYRDtrWfjm7YjQKuxkmDMv+M8BC4sMNK0rt8DcBDEpyfj/651asoOBzNYuup7din98HllzBnfo94Hw0hQfgMT8+dTedDMl3/seudcOvagQx3FIxBPE4wkS0SjJeJxUNEYmkSQTj2PG4tjxOHS0o7a142trw9/ZTqCzE38yvmdjl/6CgJqFepCviyVBm18iFlRIhTScLA0l20cwx084x08opBEK6WQFNcIhnTfuWURxl8mor59MYD8hbUOVmkX/YHPse+SlzmPqRb8/rLwwrz51DWS5dWHtjIKTKqIg7yJmnvXNvjL3qFj1gyfITbipIyzHxCCNqZg4mgN+CTmsokb86PkhKs6ZjhYc/IuNrK40Lb9ZjhxUKfrMNORB/v300hQfIe1/+hNKYQHZlx9ipfgB5snv/4jI66/iS6XwpVP4M2mU99zItZ5tX2Q0jbQ/gOEP0F5QgBmoxPEHGLZ2NZnKCbSPK4BwENmnoPhUVJ+C7lfR/Sr+gEogoBGM6ORl+ak+xOpQy1Y3Ma7ZYN0phUw+yv9E0fr11K//Dz5/EdWzbx3wZFttm95hS/ddhFKTmHL+rw7bnlHjbmXzegnHSeCo29ByGunuXtFH1h491becRtPc1Zhd6Z7FSw5SBrSMipb24YsGoAHAYltsHmM+0jdlG3sLYdq0/3MdwnLIv37CoBf5gzG0re9DUqtWk3h3HkVf/hJyLxWl6Eu276hn5L8epGFYNd0TJ0MwiBQMIodCqOEQWiiEHgrjywrhz8oiGA4RimQRzsoinBU+YPhmX9H+ai2aLnHKeUeWBiHV2UD96kdpiT5LKrDZTbOegW1v/BTJ1pEdHcnRkYWP8uzrGXHq/xy0ze7a1bTWvIGi+N1NDSJw2NR+B0JykB2/uwkfsgig4EcmgCIFUOQgihJAUYI0G8+gOnlMO+1PKIcx+RrvakOWFSpGnsWwsedRt/kN1m65FaM7h7Mv/PMRfU59TbK1Cy3kZ+S1+8+9v+mh1wmsVOlS2hh72eB27biTr5sx6+Pk3zABbQjltNkfntDvh/b77kOORMi59vBWLg4Uyx5+hHGOzfhf/5KqsWMG2pyDsnp9K+MaM6yZVcCkwKHfZIxUlMZVT9Lc+jQx3wqQHfxUUyl9muLRF9Gy5WVMswtHpLBFGsNpJRqYT2vXy/iWl6KofhQtgKIFUfQAih5E1YMoPvf3Nau+6N40zPd1rEI4OR2/UobtpHBIYQv31ZK6sUnjkMYRGYTIoJDF5PF/wJ976IUp3nru02T0F5F6tNKMB0ASSLLCSbP/iT/Qd/UOWldtofXB1UhCxlYthB+ksIoS8eEvjVB1/kyUfaT62Pjg6/hXysiSTGewjcnf2bsk49Yn38W3QiYjkmSdXUGmO44WGryum/g775l8nXBsVIvzhH4fZLZuI/bii+R9/BaU8NFFnfQXO/PtrHzpNUpHjkQ73Ar3/UzO39YDULy5gRW/cBeVSw7sKlwqdr64P1h6G11Tv7W7gZ5BsmzOxAiNoEmO01LzTE/xiDJUNYCmhZC6tkJmPvHAMtZ3LDu4YQEoFzdTMekj2JkktpnCNpPIin7IETOOaYPkIKuHfgPraNlIWn0JO1aAImUjR7aghVOYCR8jq35IfsmEQ25rX2x5/B1S29uRdAXZr6IEdJSAhhrUcUwb560YPvwkfUkUU0aL6fjiQeRmGTaZtBZvoWTGnlU2al5ejH+lhC0sZElH3k+x7cSyZnKlAnxSEF5P0/TqYkb+5IJBGVqZXNZC97Nb8U/IH9KTr+/HE/r3IYSg/vbbAQiecMIAW3PonHXrzbyxYD6jfnc3rz7/HNP+8mdKSgdnmbO5G7fvWvcS7AAhuYLuSGJ3gWppz/KwsrbnSkjb1pAkG7TF4CzGcQALMpmjt2+b8TxblryNJOlI+FDVPE47bc888vF4K5lMnFCoAJ8vvEu0Olo2koo34/Nnowez3VdfFpJ04BvvsnnfRgoJps/8PcWVMw547uFS98ZyfAsdfLw/qkkAGRQghU3uTeMZOaF619FtT89Hftd9tGl9di3tczei5gbwFUewLRP5rRQONjIKKZFgxKf2neRtwjcvJVbXQv19C8l28slUO4NS5BOLmuh8YhO+4dnkXzcWSR58Nh4pXtTNexBC0PLjn9Dx97+Tf+snKPzCFwblF3J/OI7Dmw89Qsmd32P9lVdzxQ+/P9Am7ZOLnp/LOiXAuyeOpSz3/ZlM9o8QYq+/h+NYmFYS00iQycQxzQSGkcAwE1hmAtNMYllJTCuFbaewrRS2nca20zgijeOkcRzX3SKEAcJAYAAmEiaKGkNVDXT9RvJyJ6BpYUwzQV39t1BVo8cGGdv2Ydsafn90H3aDYyg4pga2H0lkoyklBPxVRHLHEMmpZn3NJ0GAHS8AfMj4keUgshxEVUIoShhfoIBJJ33msF04q7/xBH4rSNW3T0OSFTLRBGY8iRFLYsbS2MkMBSeMIlS8Z4x426qt1P1zEZrsQ3N0/FIIWdrtg087CQw5Q4Q8YqILK8dGjujoBSH8hRG6X9+OnvERlLOI0kEEt/2yH5464JPl70VYDl3PbCGxoAnfqBzyrx+P7Bt6Y2Av6uYQaf313XT8/e/kXn/9kBN5cFdiFs+YDkAgf3D6FhfsaGCZL4sPkj4skYd9ZwuUZRWfHsGnR+gLL9tLL90MzMUw/k5T8+79rqfsEhTFjxBRJOLEovUkk2EKQ1MI6oVYZhLbSmA5CSQnDiKO48RxlDbsQC1JdQHJODTFQVbA7CoHKY2QunGUNoRiIVQboQpM3LVlG5aFmXrK5w7Z/h2vLSXHKSA2Oome5S5Scv3jB/9+FEweQcFPd+ccsE2LWF0L8R2tpJu7KZgxhdYFG+hc24ZqKIQ6Q+jd/p6k5XEiIm+XoEfIo0tuo/zmmYNL5IWg87FNJJe1kHVWJZHzhx1TI/mdeELfQ9sf/kD7vfeSc801FH/j60NO5Hey7t+PMk6SOOGaDw20Kfvkh2u2oKpBvn3i0Mj+d/bZf6CxcTmGmcA0EphmAstOEgwUM27cJbvO62ht4Z7f/IYcXePqb33noO06jk1X20Z2bHmFttSvsVIaPrUKRQmhKCE0PQtNi6D7IihqkO01dyP5uhk762OHZX/3KzX4nSAjrzv9sK/9/SiaSs7wMnKGl+3alzOibI9z0t1xYjXNJOvb8RVmU3TCaNpXbQUJJk05eht6m+SiZpLL3InXyLnDDv6GIYon9ED7X+6n9e57yL78ckq+e8eQFXnbtil45SW2T57GxMryfu8/ZdnUxeLUdEepiyVoSKRoSmdoMSzabEEnEg2+MBc4KSqzD280P1Bomp+qqpMPet6TDz0IksyFl1xy0HMBZFkhr2g8kqTS8M79yHoSyz8fZ+foHdzIn57oHy0b9PSF+EOHvgR/x+vL3NH8qAR6uH9CBP3ZYfxTwvCeymGFU0f1S9+Hix0z6HpuK76R2cfUxOu+OO6FvuOBB2n52c+IXHwRpXfd6daNHKK888zzFLW1YH3q0wc/+Sj4y7LVvNraRacj6EImKsnEFY3MXkv0JcCPH4MIJjk4zLET/PjkaX1qX39Tv30btR2dFPg0xk07vAn83MLRXHT57mgg00iRSXaSSraRSXaQSXWRyXTh2BnGnnbDYbXd/fJ2dzT/kTMO633HA07KouORDQjTIefyUceku+a9HNdC3/mf/9B8552Ezz2Hsp/8BOkwc4QPNuL33w/5hZz+ob1jmQ+XH81fyjtdCfyShF+WCMgSAUUmKMs8aMgg+4k4BmHbohyTXCdDISrFPp3SUICKcIiq7CyqciKEh8CCs6Phb7/6GeQWkTZM7vvVz9F1nUgkwoVXXYM/uP+R9Lo/v4jYkkbs/CcEjrCRSnW0bD9KyIcdC2A3uuXFNrz9MpLPDY+UAxpqwIca0lF0la4VdUiq7IZO+jXspEGOU0B0ZLzfRvNDBaMhTvuD67A7M+ReMQqt8Nj/fI5boe9++mmavnMHodNPp/yXv0Q6ypWhmVSCdx/4GZmWJpRAECUQRA2F0AJhtGAYPZSFLxTBH8rGH4rgD+cQDOegHWbK2v2x6I23Gb5xHVs/czu67+iKMmxq6+A3CYFP9iELgYmMhYIjZLABWfCPYbmcP7K6V2wfygjHQTINsC2SQLyz251Zbe1g1JpVTDpx3wnmHNsha8v7Ur1JPVtzzwbsPx0cgEOPk4ccct53TCPtJBh1BKN5x7ZJdzaS7Kgh2V1LR8dbFBVfRNm0Sw+7rcFGYnEznU9uRgmqFP7PFHzDhoYL8Wg5LoU++sKLNHzt6wRnzaLiN/cg60cmjJZtsfrdp6l7+hHy3lxFSfTA1Zkc3Mosyfe2IYOhSRi6hKXJmD4FW1exfSpC13D8OsKng9+H5PchBQLIAf/um0kwhKWoWP98GSecxRk37V2q7XD5wbJ1CCXAk5OrmVpatGt/2rSI9gSqF4WHTprZvkSSZb7x+/twHBtZVrBMkx9//3vIEkyYceJ+3ycrMokJBkZzHEzH9cVbINmg2Tq68KHJR/YklM7aTsPU3wEyLXMjjB1zx67FXkI4ZOItJDvqSHfXk441kE41kjFaMJwmMnILlt6OkK3dDWqQqtsxpIVemA5dT28hsagJ38hs8q4bhxLu/ypVA8VxJ/Sx116n/ktfIjBtGpW//x2y//CWYkejbax44QE6Xn2JwqU15MYcqiXYMT4P7WM3MP6cq0jFu0gnuskkoqTj3WQSMcxkDCuZwEzGsZNJ7FQSJ5XCSacR6TSkM5DOIGdM5IyBnLFQEhlUw0bLOGimg24KdGvfdjlAw3e+S1ZW1lF9Pku3bOU1yUckleSJrTt4obaBoKoQVBXCmkpI0whrGrXROGFdI8unk+XTCWkaSj9OYj91/1s0rI9ix1WQBcgCSRZICsjqzk1CUWUUTULVZFRdRtEUNJ+CpitoPrUnMZuGz6/hC+x81fEHfQRCPnwBHfUQVhnLsnvOy088hqWonDFj2kHDCMfecM4hXasQAjOZcuPfYymMeAornsJMpLGTJnbKwE6ZOBkLkbFpLfsrQo3hswtJBTaxbuPX0Dbkk1EaMLUOkO33W48q5aBLhYQYi98pxe8rpz72AKa/hVBqMifM+fsh2ToYsTrStD+4DrM+TtbZlUTOOzZDKA/EcSX08bffof722/GPH0/ln+5FPoD/9L1s27qUdc88gP3WAio2dFBgQliD5kml2GefyeRLb2JS6e7QrHB2QV9dArZl0t7dxg8XPMCKTQ/gs2z8Bnzo5K/ysbOPPi/Pm0uXQ24V3cEwfzQAA1x/jb3zl/2iOA6qY6MJB00IdOGgI9ABVTggXD+0ABACSZaRJAkf4JPAL0v4JHc+wK/IBGSJoCyT1+AwXpXx+zV0n0prbYy6hSZC0QkW2UgK2BY479nsDAgHcAQ4ktufeO+1HDoCB2THzdGgCCQZJEUgITH5nFJOu3gaAJZlsmTVaiRJwjJN3nrhOQKhEKMmTCQn/8i/E5IkoYeC6KEglO59PJPupmH727Q1LiEaXQVZNWjJ8yiJTKDGuhvD14SU0Qnbk/BJRfh8JfhCJQSyygnkVRLIL90rXcPW+X/E9LdQZF3JxIt+vOtGNpQQjiCxsJHu57aDLJF/w4RjJnfN4XLcCH1i4ULqPvtZ9JEjqfrznw6awyYd7WLRX3+K8exLlNUmGA50Zas0nzmB4vM+wMTzr2V6oP/dF2+2buTzb3wBYTTgK6nm2im38clxF+2xYvFo+L+rr+Sm7m6EphPLZIhmDOKGQcKwiJsmCdMiYVkkLZukZZG0HVK2Tcp2SDti15YRggyQEWAgkZZlkGRXJHvyG7iTj27YpYGMKWRMScZCxhEK2DCi3uSjbybY+D47hWrw8Z+cReAwkmPZtk0mZZBKZsikDNJJg3TKwEi7Va8yKQsjY2JmLMyMjWnYWIaNZYBt9mwW2KbAjCoIU6NhS8eu9pOxOLYkIWSFd1eu2bU/+OqrfOW7R79K2XEs2ptW0lQ3j672FaQyW3CUZtRgip0PU45fxu4qZdY5dxDOLmVY6hZkzYdyGHl3Em01bI/dQzg1lYkfGJoib7Wl6HhsI8a2KL7ROeReORo1d/AmUutrjguhTy5bxo7bPoVWUU7V/X9BycnZ77l1axay+i+/pPC1lRSkBXVlOnXXnc64S69n3PTTBjTGPmkafO6VW5CcJBeOu53PTbqSfF+410R+J7nZ7hL7vGDvTBQfCRnLIm4Y/OaPKxHA2beNBMsmk3aFuXxE4WGJPICiKATDAYLho7+uv/7gBRL1Dudeu9sPH8nN5Utf+jKd7a0kYjFWL1vKqm21VJQcXs4hIQSpRAONNW/T1rKUeHw9lqhH9nch91R+ERrYRgApU4QqhpOTN5niipMpqpyBouwWdS1w+MuFtyy5G6FlyCj1LH7+I/iUEvx6Kf5gOYGsCgJ5wwgWVKAc4dxWXyIcQfzteqIv14AikXvVaIIzi4fs2pje4pgX+tSq1ey49ZOohQVU3X8/at6eC04MM8PW5W9Q89YL8Nq7VG2OUiHB1hOKKb7xFuac+1GUQTKieXLHYiTHncp9Yf3dvLD+bgAECsg+JMmHJPtQZB+K7EdV3E1XfOhKAJ/qx6/48asBgmqAoBYgpAa4fNhsTsgfXKsCfapKynDI3poiPiHCxGmDxz7DMIk3CQKFNnlFe+adCUUihCJuJMezTz6JZNtccu1HDtheMtrOtvVP0t7+FmlzC2itKL7deZJNScVJ5yKb0whljaOgeCalw08jFOkbF2H5yGtgsyBDM4bUTFJejy3FIYW7tQBCQjXy0O1CdIrwqaX4/WUEwhUEcyoJ5A9Dz87r13QHZlOCzsc2YeyI4R+fR+4Vo4ZkIe++4JgW+vSGDdR+4hMo2dlU/fWvtBod7PjvM3SuW46xeQt6TTMFjUlCGagC2vM1Nl97MtNv/gIfrJ480ObvxTXVs+jM/IKmVDsJM0XSTJGy06SsFBk7TdpKYdhpzJ7NstOkzS43aZeTRjgZEBkk9owOeq12Fm9fft8AXdX+efadHeiWYMKpZQc/uR9Z/MZaZNvH2Fn79/euXrSAqAOjy4qJ5O6ZNdKxbXZseouazY8TTy1Gy25BVgWOImEmwsipanyBkeTkTaO06hQKKsb1q/skf9TJ5I/aczWwmY6RbK8h2VlLKlZHOtlARmokIzWRkDfQpb4Djg1R3K0WFDNM0BpDVmAqOUUzyB8+Gz2U0+v2Wu0poq/UklzeghxUybtuLIEphcf9KP69HLNCH129gvoPfRiADiVN+yXnEkkKIkAESAQkukqzaD91HMlp06g8/QJOHTdrUH85VFnhM+OPvkh5wszQaSS5Z83TPL/u55xddWjRH/3N9oXNqCGZc6eVDLQpe7B+fgNCUjnpnPH7PeflF14AXDfMMw/9E39ARfdtI5NcgK1tQs/KQBAUEUIzT6Kk8HwqR36AUKSwvy7jsND8WWSXTyK7fNI+jzuOTSbaRKK9hlT3DlKxHSTTW4izlgbxNxpa/grNEr5MOWFpAtnZ08mtmEWkfBLyES5UtLoyxN7YQWJhE8gS4TMqyDqjAiXU/9XSBjvHpNA3NGyku0fkAeIhGXPSCGKjRpI3YRpVU05lXOXoQS3qfUlI8xHSfLxe8yyoBXx9ylUDbdJe1LUlidSlSc/KR1EGT1qKVCJNqsGHBLz2+BJ8QTcsMxB2wzEDIR+hrACG5RAMdpPS1uL31ePPasGSHSRVRklVEpFPY+SEq8krGnxPjkeCLCsEcsoJ5OydY8mIdtCxbQGdrUuIOSvp1N6lPf0SbAZ5fYCgOYYs32RyCmeSXz0LX3bRPnrYjdWeIvZGHYmlzSAgdFIJkTmVnpvmABxzQt+UaOLj827n9hKF7A98gAm3foHxOYOzAMdA8vDWeaST6zhzzGcJqoNvUu35t2uRBZxxasVAm7IHiVgKIVlIQmXrWzud1nsT5kxCJaupHPkM6XQ+tnk6hflnMumEa1DVgZvkHgj0SB4lUy+iBLdWrGM7xBrW07ljAd3dy4mzmkbpQRrbH4B20NOlhJlAJGsaueUnkV01FUXVMJsTxN6oI7m8BRSJ0IklZJ1ZcVxH0xwqx5TQNyWauOXFW+jKdFH+n4eZXHhsjJb6gn9ueBKANzb+jkmb7kOSfUiyH7lnIldXw3x31pe5YD+P6n1N89I25FyVE0e+vyrSwFJQksttvzmHeDRJMpamfst2Ni+qpWPb3nbmj/IzaeJ/2SoM1nW3EFN9NDWsJKL5iWhBIr4Q2XqYLC00JEMYjxRZkcmunEB25e7yiEaym85ti+lqXkTUWUm3uogO81W2bwdpi04wNZrCFR/Fb1YQPq2crNMrUCKDb4AyWDlmhN5yLG596VbaUm3cd/59g1LkM0aaZRvfZVnNAhqiDRhWGp/sI6AF8KtBglqAgB4iqIcI+IKEfGFC/izC/ixCgQhZgQjBYBa67j9qt9OXp93MA5tKSVop0laKtJ3G6JnMjSZrMFIbWdW5/bCEviWa5h+PrifdkkLWFCRdRtFlVJ+CqivoPnfz+RT8PpWAX2HJazvwN6WxVRlHlRCahCwgt82EOcWDqkjFTloSaX79+oO0tJchd+fjs4sJj2qhqKCTkSPzmTBuMvnhXHJ9Z9CV6eaj89eT5L2+dwEkerYWJOHglzL4yRCQDIKSSUCyCck2QdkhpEBIlgirMmFFIayqZKkaWaqPkkA2s0smD3k3pB7MpnjiORRPdOeLHMehYet/2Fx7J7aSJBXYhn9WNiWnnuT54I+AY0boZUmmMFhITbSGuRteobu+Hl3z49d7xFMLEPRnEfKH0fz+Ph9BxVNRlqx/i6U1C1nfsZ5tRh0tegxbeV/pxp5ap4eDYkuotowqZDShoAsFDQ0dFUVSyFdz+OEV91CUt/9olbNLx3F26bh9Hjvl8RuJOWk+Pe7QJn4t2+HvL26m46V6AmlBJlcF20AxBarlbopw16O+39mRB0QjCk5ZAGE4CNNBGA6dZT5uOmf4IX8m/cGije18Y8MO1gQFTt7JsEekbk+8ugWsjgExAFRMLEL8cXiSQl+IqJkmZmaIWQZxyyBuWSRsh7jtkLAFCUci4cgkHYVm20/KUkkJHyl8GOzLB+3wsLOCs8un9em19xcZo43mpqdpbHqCeHwtmpZHdeVnqKj4KKp6dOk9jmeOqZqxaSvN557/NPM6Fu3/JAGqLaE6EqqjoAl301HR0dAlDV3S8ck6ftmHX/XhVwL4VT8BNUBADxLQgwT1EEFfeNeoO5bqYlntYjZ0rme71UCbL4HoGYzqlkyZlcuIQDWTCicxY+RsxlZNJegLkbbSxNNREskosVSURCpGIh0jYcRJpuMkzSQpI0nKTJIyU6SsFGkrTdpOk7EzpJ0MhmOQESYGJvX+rl2XWpQKo6PhkzR8Pdfkk3WmFE7hfy/99j4/nhXr5vOxhbdy2TyFi5cFsDQdW9exdB+OruP4fO7vsoJsGsRthc78G3e9P8fXTXmOgeZT0fwaWkBFC2jg92HpGpbmw9A1DE0no2nYus7Z00sI6IN7zCGE4JxHl7I5W+YiQ+Oa4WFmjMwjasbpzMTpNpJ0mSmiRpqoZRA1TWK2RcxyGBEM8PmJFx21DYZtEjXixIw43WaST63ewjZRxgx1O6dmq3xjyqEVPdnXtTXFG1jctoGVXa2sTVhst8JcX+zjtvEXHrXdB8NxMrS2vUZT4+O0d7yJEDZZWZMpK72a0tIrUZTja07jSDlQzdhjSugBTMvgl7/4NA11W1GCfsaeeRaGY5Kx06QsN9Y8ZaXduHM7Q8bJkHEMMsLAwMLEdF8lG0t2MGUHRz70zyhgqJQ7+YwKDWdSyRROGn06Yyun9JsLYunGd/ntW78g42RIOwYGPTcByb2mqM/NPjmxM4RfaPgljYDk3tQCip//hNYC8KW155CVlBGGgZRJI2cyyIaBksmgmgaqbWNpOlH8tJffgK2G0KwEtqThKIfhOxUOimOiOAYKNqpko8gOqiJQFQlNA90nofpUVJ9KzAygFhehBzQ3OZlPxRdQ0IMavqCKP6ThD6n4QhqBLB1N750nt/kb2ri8oY4bpCA/PWtMr7R5tHx72ZPMjapscCooltp4ZsYksvUQYS2E0vN9sx2HLiNBS6qT1nSMtkycdiNJSypKbdpga8ZHrZ1DN7vT9eZJUaIigIRg9SkTyfb1fqoPx7GIRpfT1PwUzc3PYlnd+PRiSkoup6T0CsKh0b3e57HOcSX04I5Q3v3Pg8x/7F+MnDmLD9z+FTT9yEOvTNskmUkQT0aJp7qJp6LE0+7IO5mOk8jE8al+ThpzGtWlYwelXxmgZelivv3gF2kpTeJXVdKSRUaySSs2GUWQVgVGj/tz1Y2rDrld0xFo78kGaBsmRncCoztBpjuBEUthxlMY8TRGwsBMumkMzLSFlbHdvDKmwDIdLEtg2RK2LWEJBUvSsWQdW9ZwlCP/G0oSSLKEJEvIsuRmtlTknuyWOzNbyj1ZLRU0v4LuU9EDCnpA5Tdbm1hYrvK36SOZUJRF2D84nkDWtG/mnJXxvfb7SKNjkiCIw75vdkGSVCodjNDSjA4FmJZbxoyCMRQHQty+6FH+HR/F0pMqKAv1zgrcdLqB9va5tHe8RWfnu1hWFFn2U1h4PqUlV5KXdwqSdPxMSvc2x53Q72TZi//ltb/eS/nY8Vz+5e/gP0gis2OdZz/3P2xoquOWO39Fzph9j0oNM0On0UVxaPCEpAohEJkMZmc3931vDdXhVqb/zwUYKZNMyiaT7ElIlrIx0hZmuicpWcbGMhws08Y2BZZp41gC23JwbOFujptRk8P8b2CdXsjtHx34CX/HcXipbhH1qSgxyyJhmbt8/hlHEFEk8jWFPF0nX/dT4AtS4M+iNFxGri97r0nc2lg9P1k3j8cSozjPv41/zj7yamW2naKzawEd7W/R3vEWyeQWAHy+EvLzziAv/3Ty8073fO+9xIGEfnAMS/qI6RdcQjCSw/O//Tn/uuMrXPWN75N1FOlihzKZaJQtDTuoCEb2K/IAuuajWBs8Ig9uml7J78dX6ke1lyCbKcpG5/R6P47jYGUcUnGDdMIkk7BIJy0ySZPla9pI5qh0tKSIrI8RHCRFK2RZ5sKqfVexOhQcx2RLxypeadzCS90Si8xh2Izg8tB2fn3CxYfVlhCCRGIj7R1z6Wh/i67uRTiOgSz7yMk5ifKyD5OXfzqh4KghHyU01DimhR5g7OzTCGRl8dTP7+Thb3+Zq77xffIrKgfarH5nxX1/wFRkpl969PVkBxINg0Syb0RClmX0gIweUMl+XyaCyWdW4DgOP/z+uyQCMjdeMKJPbOhrHMdiY8dqXm/azILuFMuNApooBUaTJ3VzRbiO20ZOZ2LewYucC2ETj6+ns2shXV2L6OpahGm6aZtDodFUlF9PXt7p5OSciKJ4i5oGkmPadfNemrdt4fEf3YFj21zx1TsoG7Pv0MJjESEE93/4Mhzb5uOPPDNo5xAOhVe/8S/WdxQxItLG2d+8BH92/xV2XrOjizfuWgq4nh5DlbA0CW16Hv93w5R+s+NwcByLde1reaN5M/O7M6ww8mnBTTEQJMVUXxezc0KcXTyKGXmlyAcYaTuORSy2iq6uhXR2LaK7ezGW5YaR+v2V5OacRE7OSeTlnYrfv48KKR59ylH56CVJuh+4BGgRQuy1ekZyn8HuBi7GLYd6kxBiac+xG4Fv9Zx6pxDioPXI+kroAbqaGnnsh98h3tnBpV/4GiOm77+m57FEzcsv8uh9v+HkCdM59Y4fDLQ5R4WVzvDqN/7N5kQZfjvO6R8oZswVs/ulb9N2eOS1bXR2pDHTFsm2NDmbEnQW6Uw4v5JgQCUS1DlxTD7aAOXncRybNe3reb15y64Reztuls0wCab1CPtZJWOYllt60PKP6XQjHR1v0d4+l47Ot3cJezA4itycE8nJOYmcnJn4/YMrw+jxyNEK/RlAHPjHfoT+YuB/cYV+FnC3EGKWJEl5wGJgJu4AaAkwQwjReaD++lLoARJdnTz+4+/SWrONC267nYlnDs7Mjb3Jk7feyPauVj55z18Ilh4bI61tj73Bm/9tIeEroCrQzLnfvJhAQfbB39iLvLCkns1/3sD7pdI8tZDPX98/E7WO47C2YwOvNW1mXjTN8kwBnbjpGLKJMc3fyezsMHNKxjApt/yAI3a3vQxdXUto75hLe/ubJBJuba/3TqDm5pyErh+fc12DmaOOupEkqRr4736E/l7gDSHEwz2/bwDO2rkJIf5nX+ftj74WegAjleSpn99F7eoVnPHRm5l56ZWDdnJo439+xRtPv4gqg6pIqKqEpsloqoqmqai6iqbpaD4d1edD8/nRfAFUfwDNHyQuBK8/9hrlHVGqujswfQq2T8H2aTg+DcenQ8AHfj9khdBGj8LYthV/fhGxJYugtIgP/PABVN2HsCy667cTS3UiI6PKKrKsoMgKiqSiygqKpCDLKpKmohYVIUkSTTVr2bTwZcrHn4hppikdM41IKO/gF38QzGicuXc9wYauEvxWjMv/bxp5k/rXd76jPUFHzCCaMHnrlRqy18UYeetYLpxRjuM43LvhJdoNg7CquWkLNJ2I6ies+cnWg0S0ENk+N9+NcgguNcdxWNu5mdebNjGvO8WyTP4uYc+lm+k9wn526Rgm5lQe0vc6lartCXucS2fnPGw7iSRp5OScSH7+GeTnnUEoNGbQ/h/xcOnrqJtyYMd7fq/r2be//QOOHghyxde+ywu/+yVzH/wr8c4OTr/uRtRBVhpNOA7znnuRmKEyttKHZdqYloVpOqRSmZ7iImA6EpYjYYv9C4VUnUWHE4R0BjltIGdMlFgSvS2KZthohiCYFqjOkl3v8YUhb0kLby+ehZaxye6yeH8GhwOR8EvEcnRKmjIUABn+CMB2BZpKfSRHlxOYNJmKk85i9LSz0LU9J+zi3e2seO7v5A4bw6gZc9B9e/rjtUiYc35yPSOfW8ALT5g8/8t5XPv7clR//6WrrcwPUZkfIpYymbd9LZ1lPi6c4X7Nn6+dz/ea9pdL38F9UI4DzYAb+x54T76boGQTlG1CiiAkQ9wWLM/k0UkOUN4j7B3MzjaZUzKWCblTD0mMd4Y9trfPpaNjLsnkNsD1s5eUXEl+/hnk5pyMqvZ/TWSPvmFQRN1IkvRJ4JMAVVVV/dKnqml84HNfJpiTw9LnnmLt3NeYeOYcJs+5cNBE5Wx//n7akioXXDKbSdd/86Dn25k0VrILKxHFTHSxdfPrfHPjvylXFL74uQOkheghHe9m85LXKBt7Ao1bVzLrpAt5+cefQX5nGdGqfNpKClBLS/AHsxE4OI6DLWwcx8ZBuK/CxhEOpA3825tQGtvYfsYJlMw+m44tayGZwm5rQ163lap3txF4fSvwFKt1aKkIY44dRmTKdJI128h/+l3yku6dZa0KLZVhjHHDiEydQfXs86gYfQKyLFN98SxmN73C2wtLmfvDZ5jz/Q+xvamO+cuXM2bkMCaNGIt+OKt1j4AHnt1EKOUw7Xo3P4/jOPyspp18Mrw+ayppO0PUSBA1kkTNVE++mwwxyyRuWcRtm4TlEHcg6UgkHUg6Cq2WRo2lkxI6Kg7TfB2ckpPm7OIxTMg9tBXXjmMSi62hq2shHZ3v0tW1YFfYY27uyVSUf4z8/DMJBKq9UfsxynHpunkvQgh2rFnJildeYPPCeTi2Rfm4iUw590LGzDp1QEf5j332Ulq7TG697zEU/+GPrk756yRiPStWVSEICPALyEgwQQ7y7bN/SVXVab1t9iHj2Db1axeyfcErxFYsQ99YS2FdAt12j2+fkEf+DTeQ7mwnumIpvvU1FNXF0XuSwEVDEu0j8mHCaApmnELjMw518giuvq2af/xrBYFu16WRVuOk87oIlclUjixk2sRxjCit6jVRS6di/Obri2iOqMw/J8ZIPUOdKGZNJsQXClv4yqSjrwp2ONh2mmh0BV07wx67l+I4biq5YHBkjzvmTC/s8Rijr330HwA+y+7J2HuEECf1TMYuAXYG5C7FnYztOFBf/S307yXZ3cWaN19l5asv0NXUiN+nUhS2UFUFVVPRdA1N193N70PzBdACQTR/EC0QQguG0IIRtFAELRjBl1tCsKT6iGzpWP02f/3Bj5k9cxinfPl3R9TGu4t/z4q6d1BkmZSZIm1nSNppHjeadp3z7ZI5XHPB3UfUfl9gZJJsWfo6mj/IqOln7/P45sWv0rDwTTIrVxHe3EhRq1tIuyN3LMunfm7XuYkRDQwbVUjjti7MJgV/LAcZdwSc9EWx8+NkV+gMH13KObNno6lH9oD72iP/Zt1rhbx7XoJX8/Z8Gtx82njCWt+6khzHpLNzPl1dC+jsWkQ0uhIhDEAiHB5Lzs7omOwT8fkGZ6lCj6PnaKNuHsYdnRfgOhPvADQAIcQfe8IrfwtciBteebMQYnHPe28BvtHT1F1CiL8ezNiBFPqdCMdhx9rVrH74F3Q3bMOyZUwhYzkyplAxHfmA/vD3MnlEiDO+8HP8hYfnDnrl2x9l9aZObv3lPYTKRh3JZeyFZab55iMX8ZzVtmvf/VM+z8ypN/P/7Z15eBzFmYffmhnPjG7JkqzDl3xJlqzDl8BcNrGNsQ3G3JiQgBOyR8ImIdcGkuxuYJcHyG6AzSabwBLAnOZIOIMPLoPvA2xdtmVJtqz7sg5LM5oZTXftH93Ggy0JG4+skVTv8/Sj7urq7qpP3b/5urrqq/LDG+noamDmjFXYRg0tL6+jpZaybetwvbCeWvk1GhPT0Kx+rvnnXNLHnQx17O72sHf/AcpKq2mu6sJaE43Db7T7R3ytk9W3rDzra3e7Oljzi4+JSjzObb/6Bs3drZR11NLp6yYteiwZvUytFyx8vlaqa9ZQV/cyPl8zQliJisoOEPY5jBoVO2DXV4QWIzbWTVBwtcC+F+HTZ6C1ApwxkHcres4t9IQl0dPVTo+rA19XOz3uTvzuTnq6Xfi6XdSVlVJ4sAW7RWdGejzpC5aSeumNWOz9C2n1hqf469OvMn1SDFc+uDYo1ejqrGfxa4txWSxM0eDJq15kV+nrbKr6gJ09x2g1m3jiNcmyyDSuzLqN7OnXY7MNvXk4dV0H6LP9emdhAZveLCayNgWf1YMt5zjfvG05sVHRvebvjw/WruXgpjFceVc0U3N6fcaCjs93jKqqP1NT+xya1k18/OWMTV1FXNxF6gPqCEYJfTCQEiq3GIJ/4C3QfDD+QpizGrKuBXvvIzSb937Azhf/RHm1C01asFs0kkfbSJ04jtTsfFLmLcM5OsW8hOTD+1az78AxYpwat9z/W6ImZvV63rOlx+ti9tp5AMyVDg5IDy6LIEGTXOhI5MLkfCLs0ayrXM/HWjs9QhChS6YKB2n2WGbEZZA9YT4ZU5Zhd57f/urBoqqhjhcf/4ioekPg7TO7uOmGRYwZHf+VzufuaufpnxojZf/uvy/C7hjYuOmGwD9JTe3zaFo3SUlXk5Z2lwrpqwCU0Acf1zEoeMkQ/WNlhpefuwrm3AFJM3o9xNveTOV7L1BduJu6umO0dFmR5lCb+HCNlNTRCEcURSU15E2LZME9jzMqMriCeqD0Tb657ZfYgCWOZFZMv5k5ed/CYv3i1Gwdx6vZsfcpdjfs5Ii7kXK8n3v8NinJkDayw1LITswlJ20xkyctQgyBsArrP9lM2YseLGbYXldYG4zpJn5iBOnTxzM7awYRzjMX64ajh/jLgzUALLzTQWb+JQNSbp+vhaNVT1JT8zy67iEpaQWT0u4iIiI4TXqK4YES+oFCSji61RD8/W8aXv64Cwwvf8Z1fXr5AL72Rhp2vktd0S7qKqupb/Xj0YyPgf/0p//DETcwI1ibGouJikolLPzMByxJKWloLKC4Yj3FjXso7jxKge7Ga4r7v6Ys5qYljw5Ieb8quq7j0/w4R32x11R753E+LS6hvKyW9iovluYIwr1Gk40m/LijW1myOofZmb3/YANoms7zrxygcXMDEbrALTReTW7CafcTbtMIs+uEj4JwuyDCLkiNDaOqtRsBWCxgQWARwlgXRnROi8BcRMC2wGE9Tl7UE9iEi+SkFaSl3UVExJSBNJ1iiKKE/nzgOgaFaw3RbzkEjhjIvdkQ/eQvn2Bb9vg4/PHrVJQcYskPe5/mb9CRkoKi53hm3+N8oHdgA1ZoDn6w8iXiE4I365Ku619oX6/vbON77/wGq3AwOymHJdPmMjt1AhbL6d0jfX4//7nlFf5S8Rw+ax0OfSypYenkJOSwaPIc5k/M/kLvGl3Xefnt9TRsBLvmxGPvYv7fTyI/u+8QBg/dt5WoemOmrrZIjfYJTbQ4uunuAbdP4O6x4PHbqO08+WPqtHqwWTQkAikFurSgm+tSCiQCXQokX3wzsgiNP67YzaV53yIiYmhGzFScH5TQn0+khKrthuCXvAGaF8blw9xvG17+qKE3/6W/x8P72x/muYo3KLT4idIlq2JncOul95GYGJwooD6/n0e2/YVXy9fgFY2EywlMiMhkZlIOr1Q8jm41euUKYd6v/hiiLZOYEp1Bfkoel0/O5fmCDayvWYtua8bqH8OUyHzq3IfpkkfA6jGO0x1EMJG0qEzy/Jmwz0J0exLdjuOMnie5eeUSIsP7/6D52KO7GVVqBPfqTLZzz697H4tQVlfOnc9sZWmmlZ9cfTOOUf2PyWhz+Xhi82HWbKuku0fj6pxkvr9wMunJcWdhScVIRQn9YOFuNdry9zxttOWHxcHM2wzRjx86r9///PwC1mmG0I7VJD9J/zoXzFhFTNy5e5hdXg8PfPwC66pfRLM1YfUnMj48l4buw3SLKoTFGD21KPEf+fdFq/nwyF4+qdxLybESGr3l9FiaToo/YNcmcMvUO7j74uuxm567X9PYUnmA94/soaCpiLruQ/RQy3f2PIRVGnk646zETowmPSue/NnJRPUyscix9m7WPFmItbwLKcA2I5bV38ohMuLcBtW1uXw8ueUwz2ytxN2jcXVuKj9cNJWpY9TMS4ozRwn9YCMlVG6G3X+Gg++A7ofJlxuCn7EcTvkYGmrs/OwJ3vrsj5RYNA5bdKQ5onSCBjPso8mJyyBnwnymT1mO8yza/gGWv/B9qv2bjI2eBB772qMsmjITAJfPw3vleznQfJQfzLuOCMfpXT2bXO1sLPuMHTWF5CVlcuecK84oLEBHdzcb9xTRfNBKW5Uba1sPUeaIWx1Jl1NgTXSSPCmanJxECvY10by9iXBd0JnsYNWdOaSNP/vumIG0u308ufkIz2yrxOXzc1VOCj9cNI1pSUrgFWePEvpQorMBPnvOaNo5XgORyUZvndl3QExIxHzrl66uBvaX/Y2i2q0Utx2iqKedRuvJHjnTpJXssGRyEnLJTlvE5LSFWG19e7xv7t/Jw3sexKd14xENIK0kWHKJHBXLlVMu47tzV2Kznp+QTNUNnez5tIGjh9roqncT3qnhkCe/A3SECxasSueSC87t/9TU6eGpLZU8v+MoLp+f5abApyuBV5wDSuhDEV2Dso2Gl1/+Pghh9MtPX2p4+QnTjLQhQFNTCcUV6yiu30VRZyUluvvzGDthuiRLOMmJHE920mxypiwjJXl2r90xSxpruGvDv9DeU4UmOsFqxGeZFXULz17/q9PyDzSaX6foYAu73z6CTYc77s0/p9m5qlvdPP5JBa/sqcGv6SzPSeH7C6eRkawEXnHuKKEPddoqjdG3pe9CQ5GRNnoypC+DjKUw4aKQb94JRNc1qqq3UnR4I8XN+yh21XJA9NBj/nCN1iU51iiyY6aQkzqP7GlXExObBoDb5+WpTzdQ0V7F+02PAxAlp7Nt9auDVZ1zpqnTw6PvHeKVPTVYBNw4Zxz/MH8KaQlqFKsieCihH0q0V8Oh9cZy5BOjb74zBqZeARnLYOpiCIsd7FKeNT1eF4cOr6fo6CaKWvdT7GnmSEB7f4zfic2ewTG94PNjpBbGdRO+x30Lbx+S89xqumTNtkp+u7EUn6Zz24UT+ccFU0iOGVqxhBRDAyX0QxVvFxz+CErXwaEN4G4Bi83w8DOWGc08Q6j3zglcne0Uvf0/JJf9mSaHm0+cY9gUPZWj1goAEmwZPDT/QabFJzM6fGg2axTXdvCL14sorOlgQXoiv75mBpOUB68YQJTQDwd0DWo/NZp3StdD8wEjPSEDpl1hiP+EiyDiq8VtOV/sfuMPZOx7gGhc1Iokmi+5j9yv3YzFaoQl2FG3i7nJs7FZQmJOnLPG69d4ZOMhntxyhLhwO/+2Iourc1PUhB6KAUcJ/XCk9Yjh5Ze+C1U7jIFZAInTTdGfB8m5xkfdEGrf377mF+QdfpJwYZS3U4ZR6ZxO9HWPMHH67C85OrQ52HCcu9fu42BDJ6vyx3PvskxiwkPH9orhjRL64U6PB+r2GnF3qrZD1U7wGSM3sdphTCYk50BSDqTkQkoe2AevGaHywB7SXl70+XY7kTRctYbp+YsHrUznQnlTF89ur2Tt7mqinTZ+c2MuC6cnDXaxFCOMgZ4cXDHYjHLCxIuMBYxmnuZSaCw2evE0FBnNPXufN/YLqxFlc1w+jL/A+Dt6cp/dOXVd4vJ48Li78HnceLu76PG48Htc9HhcaF4XmteN7nOj93QjfW7o6Yaebix+N8LvweL3YNW6sWoeZnp2feH8YfeUMd3ZdwC4UKS508vbBXW8sa+WwpoO7FYLK2em8vNl00mIHHox/BXDG+XRjxSkhK5GqC+Amt3m8ulJzz9sND6fF7vmYqtlDrEWD6O1JiKkC6f0YhfaWV9Sk4Ju4cSLA69w0CPs+CxOdGFjnO8IEcLD7ugryP/xa0Gu7MDg8vrZuL+B1/fWsaWsGV1C9thorp05lpUzx5IYpQReMXgoj15heOtRycaSfqWRdsLzr9kNNbuwmx5/mlZJVU8SpWTQLiOJioomJjqamKgobM4ILPYIrI5wrI4IbM5wbI4I7GERjHJGYHdG4AyPxBEWidVmJ1IIIvspVv7A1/yc8Gs6m8tbeHNvLRtKGunu0RgbG8Z3L5/CtTPHqnAFiiGB8ugVn+Pzeul0dbGt2svW8ha2lLdQ09b9hTxJ0Q7Gx4UzfnQ44+PCmJwYSc64GCbFR/QaNngoIqWksKaD1/fW8k5hHS1dPmLCRnFVbgrXzRrLnAlxw6auiuGD8ugVZ4Td4SDe4WDFaFiRlwpA43EPVa1uqlvdVLd2G+ttbnYePsYbxz2c8BOinDZmjo/lV1dlDdkh/ZoueXZ7Jc9tP8rhFhd2m4XFmWNYOXMsl2ck4rBZB7uICsVXQgm9ol+Sop0kRTvJTzs9KqXPr1PR3EVRTQcFNe2s3V3N7z8q539unTUIJT03XF4/333hMz451Ex+Whz/sGAyS7NTiAlT3SMVQx8l9IqvjN1mITMlmsyUaG7OH09Vq5sNJQ0UVLeTNz52sIt3xpQ1dvLjVwooqevggeuy+foFE9QAJ8WwYugFEFGELL+9KQ+71cLdL+8j1L799Ibb5+fh9QdZ/rvNVLe5eeKbc7ntwolK5BXDDiX0iqAxJtrJtbNSOdLiYl1xw2AXp0+klPytsJ5Fv/2YP26q4Jq8sXzw4wUszlKDnBTDE9V0owgqv1yexf664/zgpb34/DrXzgqtyVTKmzr5t7dK2Fp+jKyUaH7/9VnMmXh2s2IpFEMN5dErgkqY3cpjt8zCahH85NUC3D7/YBcJgC6vnwffPcDSxzZTVNPBv6+cwdvfv1SJvGJEoDx6RVDxazp3PL0LTZf8ekUW4fbBvcWklLxdWM8Df9tP43EvN88dx8+XTidehSlQjCCU0CuCitevU9PmRgho6vSysaSB3HGxJEU7zvtHzqPHXNz71yK2VRwje2w0f/zGHGZPiDuvZVAoQgEl9IqgEuGw8btVs/jdh+X876YKNN3ofTMxPpzVF6dx+0VpWAd4VKmuS57bcZSH1h3EZhX8x7XZ3HrBhAG/rkIRqiihVwSdZTkpLMtJodunsb/+OIU17bxbVM99b++nudPLT5dkDFgIgepWNz97rYAdh1tZkJ7IQzfkkBITNiDXUiiGCirWjeK8IKXkZ68V8tqnNcxIjeZHi9OZNyWeSMfpvoaUklaXD4sQxEXYz+j8ui55YVcVD757AKsQ/MvVWdw0d5zqE68YMahYN4pBRwjBwzfkcvGUeB57v4zvPGv8mMeFj2JcXDhhdiu6Lmnp8lLf4cHr1wGYnhzFZdMSuGRqAhdOiifMfnq8mfqObn72aiFbylu4bFoCD92Qy9hY5cUrFCdQHr3ivNOj6Xx0sInDLS4jWFpbNz6/hkAQH2knNTaMlBgnbp/G1vIW9lS24dN07FYLsyfGcunUBC6dlkh2ajRv7qvj/nf24/Pr/OrqTBW+QDFiUVMJKoY03T6N3ZWtbClvYUtZC/vrjwNGrB2fX2fWhFgeuXkmkxIGb3pEhWKwUU03iiFNmN3K/PRE5qcnAtDS5WVbxTF2H2klb3ws188aq+LDKxT9oIReMeRIiHRwTV4q15gx8xUKRf+cUQgEIcRSIUSpEKJcCHFPL/snCiE+EEIUCiE2CSHGBez7jRCiRAhxQAjxO6EaUBUKheK88qVCL4SwAn8AlgFZwK1CiKxTsv0X8KyUMhe4H3jQPPZi4BIgF8jGmCJ0QdBKr1AoFIov5Uw8+guAcinlYSmlD1gLrDwlTxbwobn+UcB+CTgBO+AARgGN51pohUKhUJw5ZyL0Y4HqgO0aMy2QAuB6c/06IEoIES+l3I4h/PXmskFKeeDUCwgh/l4IsUcIsae5ufls66BQKBSKfghWmOKfAguEEHsxmmZqAU0IMRXIBMZh/DgsFEJcdurBUsonpJRzpZRzExMTg1QkhUKhUMCZ9bqpBcYHbI8z0z5HSlmH6dELISKBG6SU7UKIvwN2SCm7zH3rgIuAzUEou0KhUCjOgDPx6HcD04QQk4QQdmAV8FZgBiFEghDixLnuBZ4y16swPH2bEGIUhrd/WtONQqFQKAaOLxV6KaUf+CdgA4ZIvyKlLBFC3C+EuMbMdjlQKoQ4BCQBD5jprwEVQBFGO36BlPLt4FZBoVAoFP0RciEQhBDNwNFTkhOAlkEoTqij7HI6yia9o+xyOsPNJhOllL1+5Aw5oe8NIcSevmI4jGSUXU5H2aR3lF1OZyTZRE0OrlAoFMMcJfQKhUIxzBkqQv/EYBcgRFF2OR1lk95RdjmdEWOTIdFGr1AoFIqvzlDx6BUKhULxFVFCr1AoFMOcARd6IcSPzHj0xUKIl4QQTiHEZiHEPnOpE0K8YeYVZsz6cjO2/eyA89whhCgzlzsC0ucIIYrMYz6Pdy+EGC2EeM/M/54QIm6g63o29GGXRUKIz0y7bDFjBSGEcAghXjbruFMIkRZwnnvN9FIhxJUB6b3OIWCOcN5ppr9sjnYOCfqwyULTJsVCiDVCCJuZdyTdKz80618ihLjbTOu1zCPFLn3Y5CZzWxdCzD0lf1Cek/6exZBGSjlgC0YgsyNAmLn9CrD6lDx/AW4315cD6wABzAN2mumjgcPm3zhzPc7ct8vMK8xjl5npvwHuMdfvAR4eyLoGwy7AISDTTPse8EzA+p/M9VXAy+Z6FsaIYwcwCWMUstVcKoDJGCGiC4CsgGutMtf/BHx3sO3Rj02+jRE5Nd1Mux+4c4TdK9lAMRCOEZvqfWBqX2UeCXbpxyaZQAawCZgbkD9ozwl9PIuhvpyPphsbEGZ6YuFA3YkdQohoYCHwhpm0EmMCEyml3AHECiFSgCuB96SUrVLKNuA9YKm5L1pKuUMaln8WuDbgXGvM9TUB6aFCb3aRQLS5P4aTtgqsy2vAItPrWgmslVJ6pZRHgHKM+QN6nUPAPGaheQ4IPbucahMX4JNSHjL3vwfcYK6PlHslE0Os3dIIR/IxRgDBvso8EuzSq02klAeklKW95A/mc9LXsxjSDKjQSylrMWafqsKIR98hpdwYkOVa4AMp5XFzu6/Y9/2l1/SSDpAkpaw31xswYvCEBP3Y5TvAu0KIGuCbwEPmIZ/X37yxO4B4zt5e8UC7eY7A9EGnN5tgeFW2gNfwGzkZSXVE3CsYnutlQoh4IUQ4hsc+nr7LPBLs0pdN+iKYz0lfz2JIM6BCb7bprcR4XUoFIoQQ3wjIcivw0kCWAcD0VEKmH2k/dvkRsFxKOQ54Gnhk8Ep5funNJsBtGK/HjwohdgGdgDaQ5Qi1e0UaE/U8DGwE1gP7OMUG56PMoWSXM7GJ4osMdNPNYuCIlLJZStkD/BW4GIzQxhivTn8LyN9X7Pv+0sf1kg7QaL6WYv5tClKdgkFvdrkEyJNS7jTzvIxpKwLqbzZrxADHOHt7HcN4lbedkh4K9HqvSCm3Sykvk1JeAHyC8R0DRs69gpTyz1LKOVLK+UAbhg36KvOIsEsfNumLYD4nfT2LIc1AC30VME8IEW62Yy3iZDz6G4F3pJSegPxvAbebPQfmYTRp1GOESF4ihIgzPb8lGNMS1gPHhRDzzPPfDrwZcK4TPQvuCEgPBXqzy34gRgiRbua5gpO2CqzLjcCHpof1FrDK7AkwCZiG8WGt1zkEzGM+Ms8BoWWXXu8VIcQYMHo7AD/H+DAGI+deIcAGEzDa51+k7zKPCLv0YZO+COZz0tezGNoM5Jdes/73AQcx2tWeAxxm+iZg6Sl5BfAHTsawD/xy/m2MjyjlwLcC0uea564Afs/J0b7xwAdAGcZX+dEDXddztQvGfLsnYvdvAiabeZ3Aq2bdd51IN/f90qx7KWZvCTN9OYaXUwH8MiB9snmOcvOcjsG2xZfY5D8xfvBKgbtH6L2yGcMRKAAW9VfmkWKXPmxyHUZ7uhdoxPghC+pz0t+zGMqLCoGgUCgUwxw1MlahUCiGOUroFQqFYpijhF6hUCiGOUroFQqFYpijhF6hUCiGOUroFQqFYpijhF6hUCiGOf8POSolgEuNP3YAAAAASUVORK5CYII=",
                        "text/plain": [
                            "<Figure size 432x288 with 1 Axes>"
                        ]
                    },
                    "metadata": {
                        "needs_background": "light"
                    },
                    "output_type": "display_data"
                }
            ],
            "source": [
<<<<<<<< HEAD:stl data experiments/boardbill_xml adventures.ipynb
                "import matplotlib.pyplot as pyplot\n",
                "from mpl_toolkits.basemap import Basemap\n",
                "\n",
                "\n",
                "\n",
                "mpl_toolkits\n",
                "pyplot.show()\n",
                "\n",
========
                "import matplotlib.pyplot as pyplot, \n",
                "from mpl_toolkits.basemap import Basemap\n",
                "\n",
                "for shape in stl_shapefile:\n",
                "    x = [i[0] for i in shape.shape.points[:]]\n",
                "    y = [i[1] for i in shape.shape.points[:]]\n",
                "    pyplot.plot(x,y)\n",
                "\n",
                "mpl_toolkits\n",
                "pyplot.show()\n",
>>>>>>>> db65da7c96d561d4d1b5f4a1b79d18ed158e2290:testing/boardbill_xml adventures.ipynb
                "#shape(shapely_map['features'][1]['geometry'])\n",
                "#shape(shapely_map['features'][0]['geometry'])\n",
                "\n",
                "#stl_shapefile.__geo_interface__\n",
                "\n"
            ]
        },
        {
            "cell_type": "code",
<<<<<<<< HEAD:stl data experiments/boardbill_xml adventures.ipynb
            "execution_count": null,
========
            "execution_count": 6,
>>>>>>>> db65da7c96d561d4d1b5f4a1b79d18ed158e2290:testing/boardbill_xml adventures.ipynb
            "metadata": {},
            "outputs": [
                {
                    "ename": "NameError",
                    "evalue": "name 'pyplot' is not defined",
                    "output_type": "error",
                    "traceback": [
                        "\u001b[1;31m---------------------------------------------------------------------------\u001b[0m",
                        "\u001b[1;31mNameError\u001b[0m                                 Traceback (most recent call last)",
                        "\u001b[1;32m~\\AppData\\Local\\Temp/ipykernel_13872/2900029221.py\u001b[0m in \u001b[0;36m<module>\u001b[1;34m\u001b[0m\n\u001b[0;32m      2\u001b[0m \u001b[1;31m#ppot.savefig('Maybe this works')\u001b[0m\u001b[1;33m\u001b[0m\u001b[1;33m\u001b[0m\u001b[0m\n\u001b[0;32m      3\u001b[0m \u001b[1;33m\u001b[0m\u001b[0m\n\u001b[1;32m----> 4\u001b[1;33m \u001b[0mpyplot\u001b[0m\u001b[1;33m.\u001b[0m\u001b[0mshow\u001b[0m\u001b[1;33m(\u001b[0m\u001b[1;33m)\u001b[0m\u001b[1;33m\u001b[0m\u001b[1;33m\u001b[0m\u001b[0m\n\u001b[0m",
                        "\u001b[1;31mNameError\u001b[0m: name 'pyplot' is not defined"
                    ]
                }
            ],
            "source": [
                "#saving the figure\n",
                "#ppot.savefig('Maybe this works')\n",
                "\n"
            ]
        }
    ],
    "metadata": {
        "interpreter": {
            "hash": "cfbdeadd13c8b601e6a5335fb528f04ba47a92b6b17bb9cc1e33e711f4fb3e10"
        },
        "kernelspec": {
            "display_name": "Python 3.9.7 64-bit",
            "name": "python3"
        },
        "language_info": {
            "codemirror_mode": {
                "name": "ipython",
                "version": 3
            },
            "file_extension": ".py",
            "mimetype": "text/x-python",
            "name": "python",
            "nbconvert_exporter": "python",
            "pygments_lexer": "ipython3",
<<<<<<<< HEAD:stl data experiments/boardbill_xml adventures.ipynb
            "version": "3.10.1"
========
            "version": "3.9.7"
>>>>>>>> db65da7c96d561d4d1b5f4a1b79d18ed158e2290:testing/boardbill_xml adventures.ipynb
        },
        "orig_nbformat": 4
    },
    "nbformat": 4,
    "nbformat_minor": 2
}
